{
 "cells": [
  {
   "cell_type": "code",
   "execution_count": 1,
   "id": "d5d2a87f-c783-4ec3-b5cb-5cbd089be27b",
   "metadata": {},
   "outputs": [],
   "source": [
    "#2024-04-16딥러닝프레임워크"
   ]
  },
  {
   "cell_type": "code",
   "execution_count": null,
   "id": "0357430d-acbd-439a-8dbd-cd37c3264c3c",
   "metadata": {},
   "outputs": [],
   "source": [
    "'''\n",
    "현재의 DeZero는 1차미분만 자동으로 계산한다. 이것을 N차 미분까지 자동으로 계산하게 하려면\n",
    "1.현재의 역전파 구현을 근본적으로 재검토해야한다.\n",
    "2. 현재의 Variable과 Function 클래스 구현에 대한 고찰이 필요하다.\n",
    "위의 두가지를 고려해야한다. \n",
    "\n",
    "<Variable 클래스의 __init__ 메서드>\n",
    "Variable 클래스에는 인스턴스 변수가 여러개이다. \n",
    "그 중 data와 grad 인스타스 변수는 각각 순전파 계산과 역전파 계산 시 사용된다.\n",
    "주의해야할 점은 data와 grad 모두 ndarray 인스턴스를 저장한다는 것이다. 이 점을 부각하기 위해\n",
    "data 와 grad는 입방체 상자로 그린다.[그림30-1] \n",
    "data 와 grad가 ndarray 인스턴스를 참조하는 경우를 [그림30-2]로 나타냄(data와 grad가 ndarray 인스턴스를 참조)\n",
    "왼쪽만 채워졌을때는 x = Variable(np.array(2.0))을 실행, \n",
    "오른쪽까지 채워진 경우는 x.backward()와 x.grad = np.array(1.0)를 실행한 경우이다.\n",
    "\n",
    "<Function 클래스의 __call__ 메서드>\n",
    "코드를 살펴보자.\n",
    "1. 순전파 계산(메인 처리)\n",
    "xs = [x.data for x in inputs]에 의해 Variable 인스턴스 변수인 data를 꺼내 리스트 xs로 모은다. \n",
    "그리고 forward(*xs)를 호출하여 구체적인 계산을 완료한다.\n",
    "\n",
    "2.Variable 과 Function 의 관계가 만들어지며 변수에서 함수로의 연결은 set_creator 메서드가 만들어준다. \n",
    "새로 생성된 Variable에 부모함수를 알려주는 것이다. \n",
    "또한 함수의 입력과 출력 변수를 inputs와 outputs라는 인스턴스 변수에 저장하여 함수에서 변수로의 연결을 유지.\n",
    "변수와 함수의 연결을 만드는 이유는 미분값을 역방향으로 흘려보내기 때문이다. \n",
    " ex) Sin 클래스 코드\n",
    "순전파의 구체적인 계산은 sin 클래스의 forward 메서드에서 진행되고\n",
    "(인수와 반환값은 모두 ndarray 인스턴스이며 backward도 마찬가지)\n",
    "순전파를 하고나면 변수와 함수의 연결이 만들어지는데, 연결은 __call__ 메서드에서 만들어진다.\n",
    "\n",
    "'''"
   ]
  },
  {
   "cell_type": "code",
   "execution_count": null,
   "id": "7efd362c-48b4-483d-adb8-b9ceadaf0e59",
   "metadata": {},
   "outputs": [],
   "source": [
    "'''\n",
    "역전파 로직\n",
    "\n",
    "역전파는 Variable 클래스의 backward 메서드에서 구현한다. \n",
    "1. Variable의 인스턴스 변수인 grad를 리스트로 모은다. \n",
    "2.backward 메서드에는 ndarray 인스턴스가 담긴 리스트가 전달됨.\n",
    "3. 출력 쪽에서 전파하는 미분값(gxs)을 함수의 입력 변수(f.inputs)의 grad로 설정함\n",
    "이 사실을 바탕으로 sin함수를 계산하고 바로 역전파하면 모든 변수가 미분 결과를 메모리에 유지하며\n",
    "순전파 y = sin(x)가 실행될 때 계산 그래프가 만들어지고, Variable 인스턴스 변수인 data가 채워짐\n",
    "역전파 시 Sin 클래스의 backward 메서드가 불리고 Variable의 인스턴스 변수인 grad가 채워진다.\n",
    "\n",
    "'''"
   ]
  },
  {
   "cell_type": "code",
   "execution_count": null,
   "id": "f3a0334e-807d-4638-aef0-0708cd6d8dda",
   "metadata": {},
   "outputs": [],
   "source": [
    "'''\n",
    "[현재의 DeZero 구현]\n",
    "계산의 연결은 Function 클래스의 __call__ 메서드에서 만들어진다.\n",
    "순전파와 역전파 계산은 Function 클래스를 상속한 클래스의 forward 와 backward 메서드로 처리함\n",
    "[문제점]\n",
    "계산 그래프의 연결이 만들어지는 시점으로 순전파를 계산할 때 만들어진다.\n",
    "역전파를 계산할 때는 연결이 만들어지지 않는다.\n",
    "'''"
   ]
  },
  {
   "cell_type": "code",
   "execution_count": null,
   "id": "91da170b-54a3-44f5-b43a-651322c284d5",
   "metadata": {},
   "outputs": [],
   "source": [
    "'''\n",
    "<고차미분(이론)>\n",
    "\n",
    "[역전파 계산]\n",
    "만약 역전파를 계산할 때도 연결이 만들어진다면 고차 미분을 자동으로 계산할 수 있게 된다.\n",
    "목표는 미분 계산을 계산그래프로 만드는 것이다. (역전파때 수행되는 계산) \n",
    "따라서 역전파 때 수행되는 계산에 대해서도 연결을 만들면 문제가 해결된다.\n",
    "\n",
    "[역전파로 계산 그래프 만들기]\n",
    "\n",
    "Variable 인스턴스를 사용하여 순전파를 하는 시점에서 연결이 만들어진다. \n",
    "backward( ) 메서드에서 ndarray 인스턴스가 아닌 Variable 인스턴스를 사용하면 계산의 연결이 만들어진다는 뜻이다.\n",
    "\n",
    "이를 하기위해서는 \n",
    "1. 미분값(기울기)를 Variable 인스턴스 형태로 유지해야 하며\n",
    "2. Variable 클래스의 grad는 ndarray 인스턴스를 참조하는 대신 Variable 인스턴스를 참조하도록 변경해야한다.\n",
    "그러면 역전파 계산에 대한 계산 그래프도 만들어진다는 것이다.\n",
    "\n",
    "'''"
   ]
  },
  {
   "cell_type": "code",
   "execution_count": null,
   "id": "b023e731-bb9d-47e8-8d62-a9e2d42e743e",
   "metadata": {},
   "outputs": [],
   "source": [
    "'''\n",
    "<고차미분(구현)>\n",
    "역전파 시 수행되는 계산에 대해서 계산 그래프를 만들고 역전파 시에도 Variable 인스턴스를 사용\n",
    "\n",
    "[패키지 구조 변경]\n",
    "1. 지금까지는 Variable 클래스를 dezero/core_simple.py에 구현함\n",
    "2. 고차 미분을 할수 있는 새로운 Variable 클래스를 dezero/core.py 에 구현\n",
    "3. dezero/core_simple.py에 구현했던 함수와 연산자 오버로드들 또한 dezero/core.py 에서 새로 구현.\n",
    "\n",
    "'''"
   ]
  },
  {
   "cell_type": "code",
   "execution_count": 2,
   "id": "7342e790-7685-476f-935f-9cbf0b8ba787",
   "metadata": {},
   "outputs": [],
   "source": [
    "#새로운 DeZero의 가장 중요한 변화. 미분값을 자동으로 저장하는 코드-> self.grad가 Variable인스턴스를 담는 코드\n",
    "\n",
    "def backward(self, retain_grad=False):\n",
    "        if self.grad is None:\n",
    "            #self.grad = np.ones_like(self.data)\n",
    "            self.grad = Variable(np.ones_like(self.data))"
   ]
  },
  {
   "cell_type": "code",
   "execution_count": null,
   "id": "fdde791d-713d-42ee-97c4-57a99f2f12f2",
   "metadata": {},
   "outputs": [],
   "source": [
    "#mul class의 backward 코드 변경\n",
    "'''\n",
    "수정 전에는 variable인스턴스 안에 있는 데이터를 꺼내야했지만\n",
    "수정 후에는 mul클래스에서 variable 인스턴스를 그대로 사용한다.\n",
    "'''\n",
    "\n",
    "class Mul(Function):\n",
    "    def forward(self, x0, x1):\n",
    "        y = x0 * x1\n",
    "        return y\n",
    "\n",
    "def backward(self, gy):\n",
    "        x0, x1 = self.inputs #수정된 부분\n",
    "        return gy * x1, gy * x0"
   ]
  },
  {
   "cell_type": "code",
   "execution_count": null,
   "id": "442009f9-d82a-42d2-9063-f9293b262fac",
   "metadata": {},
   "outputs": [],
   "source": [
    "#역전파의 활성/비활성 모드 도입 variable의 backward부분 변경하여 core.py에 저장\n",
    "\n",
    "def backward(self, retain_grad=False, create_graph=False): \n",
    "#create_graph를 추가하여 기본값을 False로 설정. 2차이상의 미분이 필요하다면 true. 실무에서는 역전파 1회실행이 잦음\n",
    "    ***\n",
    "     while funcs:\n",
    "            f = funcs.pop()\n",
    "            gys = [output().grad for output in f.outputs] \n",
    "\n",
    "            with using_config('enable_backprop', create_graph): #이곳에서 역전파 처리됨.\n",
    "                gxs = f.backward(*gys) #메인 backward\n",
    "                if not isinstance(gxs, tuple):\n",
    "                    gxs = (gxs,)\n",
    "\n",
    "                for x, gx in zip(f.inputs, gxs):\n",
    "                    if x.grad is None:\n",
    "                        x.grad = gx\n",
    "                    else:\n",
    "                        x.grad = x.grad + gx\n",
    "\n",
    "                    if x.creator is not None:\n",
    "                        add_func(x.creator)\n"
   ]
  },
  {
   "cell_type": "code",
   "execution_count": null,
   "id": "3608a68c-35f5-4f3a-a5fe-b518a50ac52e",
   "metadata": {},
   "outputs": [],
   "source": [
    "'''\n",
    " [초기화 수행]\n",
    "1. __init__.py에서 is_simple_core 플래그 설정\n",
    "2. is_simple_core = False 로 설정하여 dezero/core.py에서 임포트하도록 변경\n",
    "3. 고차 미분에 대응하는 core 파일을 임포트할 수 있음\n",
    "    이제 새로운 DeZero는 2차미분도 자동으로 이차미분을 계산한다. \n",
    "'''"
   ]
  },
  {
   "cell_type": "code",
   "execution_count": 49,
   "id": "8959d514-1e57-47ce-ac92-af834ff893e7",
   "metadata": {},
   "outputs": [
    {
     "ename": "IndentationError",
     "evalue": "unindent does not match any outer indentation level (<tokenize>, line 3)",
     "output_type": "error",
     "traceback": [
      "\u001b[1;36m  File \u001b[1;32m<tokenize>:3\u001b[1;36m\u001b[0m\n\u001b[1;33m    sys.path.append(os.path.join(os.path.dirname(__file__), '..'))\u001b[0m\n\u001b[1;37m    ^\u001b[0m\n\u001b[1;31mIndentationError\u001b[0m\u001b[1;31m:\u001b[0m unindent does not match any outer indentation level\n"
     ]
    }
   ],
   "source": [
    "if '__file__' in globals():\n",
    "\timport os, sys\n",
    "    sys.path.append(os.path.join(os.path.dirname(__file__), '..'))\n",
    "출처: https://amber-chaeeunk.tistory.com/56 [채채씨의 학습 기록:티스토리]\n",
    "\n",
    "import numpy as np\n",
    "from dezero import Variable\n",
    "from dezero.core_simple import Variable"
   ]
  },
  {
   "cell_type": "code",
   "execution_count": 50,
   "id": "caa7675b-a81c-42ca-af62-a8baa2a8cea5",
   "metadata": {},
   "outputs": [
    {
     "ename": "TypeError",
     "evalue": "Variable.backward() got an unexpected keyword argument 'create_graph'",
     "output_type": "error",
     "traceback": [
      "\u001b[1;31m---------------------------------------------------------------------------\u001b[0m",
      "\u001b[1;31mTypeError\u001b[0m                                 Traceback (most recent call last)",
      "Cell \u001b[1;32mIn[50], line 9\u001b[0m\n\u001b[0;32m      7\u001b[0m x \u001b[38;5;241m=\u001b[39m Variable(np\u001b[38;5;241m.\u001b[39marray(\u001b[38;5;241m2.0\u001b[39m))\n\u001b[0;32m      8\u001b[0m y \u001b[38;5;241m=\u001b[39m f(x)\n\u001b[1;32m----> 9\u001b[0m y\u001b[38;5;241m.\u001b[39mbackward(create_graph\u001b[38;5;241m=\u001b[39m\u001b[38;5;28;01mTrue\u001b[39;00m)\n\u001b[0;32m     10\u001b[0m \u001b[38;5;28mprint\u001b[39m(x\u001b[38;5;241m.\u001b[39mgrad)\n\u001b[0;32m     11\u001b[0m \u001b[38;5;66;03m#두번째 역전파\u001b[39;00m\n",
      "\u001b[1;31mTypeError\u001b[0m: Variable.backward() got an unexpected keyword argument 'create_graph'"
     ]
    }
   ],
   "source": [
    "#2차 미분 계산하기\n",
    "\n",
    "def f(x):\n",
    "    y = x ** 4 - 2 * x ** 2\n",
    "    return y\n",
    "\n",
    "x = Variable(np.array(2.0))\n",
    "y = f(x)\n",
    "y.backward(create_graph=True)\n",
    "print(x.grad)\n",
    "#두번째 역전파\n",
    "gx = x.grad\n",
    "gx.backward()\n",
    "print(x.grad) \n",
    "\n",
    "#실행결과 variable(24.0) variable(68.0)\n",
    "'''\n",
    "하지만 이 코드에는 문제점이 있다. 미분값이 남아있는 상태에서 새로운 역전파를 수행했기 때문에\n",
    "새로운 미분값이 더해진 값이 출력된다는 것이다.( 24(1차미분값) + 44(2차미분값) 인 상태)\n",
    "'''"
   ]
  },
  {
   "cell_type": "code",
   "execution_count": 51,
   "id": "2e8c875f-4681-4cd2-b144-99ced3c095c5",
   "metadata": {},
   "outputs": [
    {
     "ename": "TypeError",
     "evalue": "Variable.backward() got an unexpected keyword argument 'create_graph'",
     "output_type": "error",
     "traceback": [
      "\u001b[1;31m---------------------------------------------------------------------------\u001b[0m",
      "\u001b[1;31mTypeError\u001b[0m                                 Traceback (most recent call last)",
      "Cell \u001b[1;32mIn[51], line 9\u001b[0m\n\u001b[0;32m      7\u001b[0m x \u001b[38;5;241m=\u001b[39m Variable(np\u001b[38;5;241m.\u001b[39marray(\u001b[38;5;241m2.0\u001b[39m))\n\u001b[0;32m      8\u001b[0m y \u001b[38;5;241m=\u001b[39m f(x)\n\u001b[1;32m----> 9\u001b[0m y\u001b[38;5;241m.\u001b[39mbackward(create_graph\u001b[38;5;241m=\u001b[39m\u001b[38;5;28;01mTrue\u001b[39;00m)\n\u001b[0;32m     10\u001b[0m \u001b[38;5;28mprint\u001b[39m(x\u001b[38;5;241m.\u001b[39mgrad)\n\u001b[0;32m     12\u001b[0m gx \u001b[38;5;241m=\u001b[39m x\u001b[38;5;241m.\u001b[39mgrad\n",
      "\u001b[1;31mTypeError\u001b[0m: Variable.backward() got an unexpected keyword argument 'create_graph'"
     ]
    }
   ],
   "source": [
    "#2차 미분 계산하기(2) _ 문제점 해결\n",
    "\n",
    "def f(x):\n",
    "    y = x ** 4 - 2 * x ** 2\n",
    "    return y\n",
    "\n",
    "x = Variable(np.array(2.0))\n",
    "y = f(x)\n",
    "y.backward(create_graph=True)\n",
    "print(x.grad)\n",
    "\n",
    "gx = x.grad\n",
    "x.cleargrad() #미분값 재설정\n",
    "gx.backward()\n",
    "print(x.grad) \n",
    "\n",
    "#결괏값 variable(24.0) variable(44.0)"
   ]
  },
  {
   "cell_type": "code",
   "execution_count": 52,
   "id": "8939b05c-1113-4da2-9ef5-e8666a40bc53",
   "metadata": {},
   "outputs": [
    {
     "name": "stdout",
     "output_type": "stream",
     "text": [
      "0 variable(2.0)\n"
     ]
    },
    {
     "ename": "TypeError",
     "evalue": "Variable.backward() got an unexpected keyword argument 'create_graph'",
     "output_type": "error",
     "traceback": [
      "\u001b[1;31m---------------------------------------------------------------------------\u001b[0m",
      "\u001b[1;31mTypeError\u001b[0m                                 Traceback (most recent call last)",
      "Cell \u001b[1;32mIn[52], line 15\u001b[0m\n\u001b[0;32m     13\u001b[0m y \u001b[38;5;241m=\u001b[39m f(x)\n\u001b[0;32m     14\u001b[0m x\u001b[38;5;241m.\u001b[39mcleargrad()\n\u001b[1;32m---> 15\u001b[0m y\u001b[38;5;241m.\u001b[39mbackward(create_graph\u001b[38;5;241m=\u001b[39m\u001b[38;5;28;01mTrue\u001b[39;00m)\n\u001b[0;32m     17\u001b[0m gx \u001b[38;5;241m=\u001b[39m x\u001b[38;5;241m.\u001b[39mgrad\n\u001b[0;32m     18\u001b[0m x\u001b[38;5;241m.\u001b[39mcleargrad()\n",
      "\u001b[1;31mTypeError\u001b[0m: Variable.backward() got an unexpected keyword argument 'create_graph'"
     ]
    }
   ],
   "source": [
    "#2차미분 (뉴턴방법 이용하여 최적화)\n",
    "\n",
    "def f(x):\n",
    "    y = x ** 4 - 2 * x ** 2\n",
    "    return y\n",
    "\n",
    "x = Variable(np.array(2.0))\n",
    "iters = 10\n",
    "\n",
    "for i in range(iters):\n",
    "    print(i, x)\n",
    "\n",
    "    y = f(x)\n",
    "    x.cleargrad()\n",
    "    y.backward(create_graph=True)\n",
    "\n",
    "    gx = x.grad\n",
    "    x.cleargrad()\n",
    "    gx.backward()\n",
    "    gx2 = x.grad\n",
    "\n",
    "    x.data -= gx.data / gx2.data\n",
    "\n",
    "'''\n",
    "출력값 \n",
    "variable(2.0) \n",
    "variable(1.4545454545454546)\n",
    "'\n",
    "'\n",
    "'\n",
    "variable(1.0)\n",
    "'''"
   ]
  },
  {
   "cell_type": "code",
   "execution_count": 53,
   "id": "afa982e8-11d7-46e2-ad5b-935313a08d35",
   "metadata": {},
   "outputs": [
    {
     "data": {
      "text/plain": [
       "'\\n[새로운 DeZero 함수 추가하기]\\n1.고차 미분에 대응하는 함수들을 core.py에 구현함\\n    (Add, Mul, Neg, Sub, Div, Pow 클래스)\\n2. 새로운 함수는 dezero/functions.py에 추가함\\n3. 새로운 함수를 다른 파일에서 사용시 from dezero.functions import sin 형태로 임포트 해야함\\n\\n[고차 미분에 대응하는 새로운 sin함수 구현]\\n수식 y = sin(x) 일때 y’ = cos(x)\\n▪ backward 메서드 안의 모든 변수가 Variable 인스턴스임\\n▪ gx = gy * cos(x) 에서 cos(x)는 DeZero의 cos 함수임\\n• Sin 클래스를 구현하려면 Cos 클래스와 cos 함수가 필요함\\n▪ gy * cos(x) 에는 곱셈 연산자를 오버로드해 놓았기 때문에 mul 함수가 호출됨\\n\\n[고차 미분에 대응하는 새로운 Cos 클래스/ cos 함수 구현]\\n▪ 수식 y = cos(x) 일때 y’ = -sin(x)\\n▪ backward 메서드에서 구체적인 계산에서 sin 함수를 사용\\n\\n[sin 함수의 고차 미분]\\n▪ 2차 미분뿐 아니라 3차 미분, 4차 미분도 계산\\n▪ for 문을 사용하여 역전파를 반복하여, n차 미분을 구함\\n▪ 먼저 gx = x.grad에서 미분값을 꺼내 gx에서 역전파하는 것임\\n▪ 역전파를 하기 전에 x.cleargrad( )를 호출하여 미분값을 재설정함\\n▪ 이 작업을 반복하여 n차 미분을 계산\\n\\n[sin 함수의 고차 미분 그래프 그리기]\\n▪ x = Variable(np.linspace(-7, 7, 200)) 형태로 설정.\\n• -7 부터 7까지 균일하게 200 등분한 배열을 만들어 줌.\\n• 만들어진 1차원 배열을 Variable로 감싸 x에 할당.\\n▪ 다차원 배열을 입력받으면 각 원소에 대해 독립적으로 계산함.\\n▪ 한 번의 순전파로 원소 200개의 계산이 모두 이루어짐.\\n▪ 각각의 그래프는 sin(x) -> cos(x) -> -sin(x) -> -cos(x) 식으로 진행이 되어 위상이 어긋남.\\n\\n[tanh 함수 추가]\\n▪ tanh 는 쌍곡탄젠트 혹은 하이퍼볼릭 탄젠트. 입력을 -1 ~ 1 사이 값으로 반환\\n미분은 y = tanh(x) 일때, y’ = 1 - 𝒚^2 임.\\n▪ 순전파에서 np.tanh 메서드를 이용함\\n▪ 역전파에서는 gy * (1 – y * y) 형태로 구현\\n▪ 재 사용할 수 있도록 dezero/functions.py에 추가\\n\\n[tanh 함수의 고차 미분 계산 그래프 시각화]\\n▪ for 문에서 반복해서 역전파함으로 고차 미분을 계산\\n▪ iters = 0 이면 1차 미분, 1이면 2차 미분이 계산되는 방식임\\n\\n'"
      ]
     },
     "execution_count": 53,
     "metadata": {},
     "output_type": "execute_result"
    }
   ],
   "source": [
    "'''\n",
    "[새로운 DeZero 함수 추가하기]\n",
    "1.고차 미분에 대응하는 함수들을 core.py에 구현함\n",
    "    (Add, Mul, Neg, Sub, Div, Pow 클래스)\n",
    "2. 새로운 함수는 dezero/functions.py에 추가함\n",
    "3. 새로운 함수를 다른 파일에서 사용시 from dezero.functions import sin 형태로 임포트 해야함\n",
    "\n",
    "[고차 미분에 대응하는 새로운 sin함수 구현]\n",
    "수식 y = sin(x) 일때 y’ = cos(x)\n",
    "▪ backward 메서드 안의 모든 변수가 Variable 인스턴스임\n",
    "▪ gx = gy * cos(x) 에서 cos(x)는 DeZero의 cos 함수임\n",
    "• Sin 클래스를 구현하려면 Cos 클래스와 cos 함수가 필요함\n",
    "▪ gy * cos(x) 에는 곱셈 연산자를 오버로드해 놓았기 때문에 mul 함수가 호출됨\n",
    "\n",
    "[고차 미분에 대응하는 새로운 Cos 클래스/ cos 함수 구현]\n",
    "▪ 수식 y = cos(x) 일때 y’ = -sin(x)\n",
    "▪ backward 메서드에서 구체적인 계산에서 sin 함수를 사용\n",
    "\n",
    "[sin 함수의 고차 미분]\n",
    "▪ 2차 미분뿐 아니라 3차 미분, 4차 미분도 계산\n",
    "▪ for 문을 사용하여 역전파를 반복하여, n차 미분을 구함\n",
    "▪ 먼저 gx = x.grad에서 미분값을 꺼내 gx에서 역전파하는 것임\n",
    "▪ 역전파를 하기 전에 x.cleargrad( )를 호출하여 미분값을 재설정함\n",
    "▪ 이 작업을 반복하여 n차 미분을 계산\n",
    "\n",
    "[sin 함수의 고차 미분 그래프 그리기]\n",
    "▪ x = Variable(np.linspace(-7, 7, 200)) 형태로 설정.\n",
    "• -7 부터 7까지 균일하게 200 등분한 배열을 만들어 줌.\n",
    "• 만들어진 1차원 배열을 Variable로 감싸 x에 할당.\n",
    "▪ 다차원 배열을 입력받으면 각 원소에 대해 독립적으로 계산함.\n",
    "▪ 한 번의 순전파로 원소 200개의 계산이 모두 이루어짐.\n",
    "▪ 각각의 그래프는 sin(x) -> cos(x) -> -sin(x) -> -cos(x) 식으로 진행이 되어 위상이 어긋남.\n",
    "\n",
    "[tanh 함수 추가]\n",
    "▪ tanh 는 쌍곡탄젠트 혹은 하이퍼볼릭 탄젠트. 입력을 -1 ~ 1 사이 값으로 반환\n",
    "미분은 y = tanh(x) 일때, y’ = 1 - 𝒚^2 임.\n",
    "▪ 순전파에서 np.tanh 메서드를 이용함\n",
    "▪ 역전파에서는 gy * (1 – y * y) 형태로 구현\n",
    "▪ 재 사용할 수 있도록 dezero/functions.py에 추가\n",
    "\n",
    "[tanh 함수의 고차 미분 계산 그래프 시각화]\n",
    "▪ for 문에서 반복해서 역전파함으로 고차 미분을 계산\n",
    "▪ iters = 0 이면 1차 미분, 1이면 2차 미분이 계산되는 방식임\n",
    "\n",
    "'''"
   ]
  },
  {
   "cell_type": "code",
   "execution_count": 54,
   "id": "58cef08e-b536-479d-8f2e-63bd8158a15f",
   "metadata": {},
   "outputs": [],
   "source": [
    "# 고차 미분에 대응하는 새로운 Sin 클래스 구현\n",
    "import numpy as np\n",
    "from dezero.core import Function\n",
    "\n",
    "class Sin(Function):\n",
    "    def forward(self, x):\n",
    "        y = np.sin(x)\n",
    "        return y\n",
    "\n",
    "    def backward(self, gy):\n",
    "        x, = self.inputs\n",
    "        gx = gy * cos(x)\n",
    "        return gx\n",
    "\n",
    "def sin(x):\n",
    "    return Sin()(x)"
   ]
  },
  {
   "cell_type": "code",
   "execution_count": 55,
   "id": "65ea1066-2afa-458c-ae02-1667d341fe3e",
   "metadata": {},
   "outputs": [],
   "source": [
    "# 고차 미분에 대응하는 새로운 Cos 클래스와 cos 함수 구현\n",
    "import numpy as np\n",
    "from dezero.core import Function\n",
    "\n",
    "class Cos(Function):\n",
    "    def forward(self, x):\n",
    "        y = np.cos(x)\n",
    "        return y\n",
    "\n",
    "    def backward(self, gy):\n",
    "        x, = self.inputs\n",
    "        gx = gy * -sin(x)\n",
    "        return gx\n",
    "\n",
    "def cos(x):\n",
    "    return Cos()(x)"
   ]
  },
  {
   "cell_type": "code",
   "execution_count": 56,
   "id": "2449ffee-c981-4c90-93cc-23b0b080a99c",
   "metadata": {},
   "outputs": [
    {
     "ename": "TypeError",
     "evalue": "<class 'dezero.core_simple.Variable'> is not supported",
     "output_type": "error",
     "traceback": [
      "\u001b[1;31m---------------------------------------------------------------------------\u001b[0m",
      "\u001b[1;31mTypeError\u001b[0m                                 Traceback (most recent call last)",
      "Cell \u001b[1;32mIn[56], line 7\u001b[0m\n\u001b[0;32m      4\u001b[0m \u001b[38;5;28;01mimport\u001b[39;00m \u001b[38;5;21;01mdezero\u001b[39;00m\u001b[38;5;21;01m.\u001b[39;00m\u001b[38;5;21;01mfunctions\u001b[39;00m \u001b[38;5;28;01mas\u001b[39;00m \u001b[38;5;21;01mF\u001b[39;00m\n\u001b[0;32m      6\u001b[0m x \u001b[38;5;241m=\u001b[39m Variable(np\u001b[38;5;241m.\u001b[39marray(\u001b[38;5;241m1.0\u001b[39m))\n\u001b[1;32m----> 7\u001b[0m y \u001b[38;5;241m=\u001b[39m F\u001b[38;5;241m.\u001b[39msin(x)\n\u001b[0;32m      8\u001b[0m y\u001b[38;5;241m.\u001b[39mbackward(create_graph\u001b[38;5;241m=\u001b[39m\u001b[38;5;28;01mTrue\u001b[39;00m)\n\u001b[0;32m     10\u001b[0m \u001b[38;5;28;01mfor\u001b[39;00m i \u001b[38;5;129;01min\u001b[39;00m \u001b[38;5;28mrange\u001b[39m(\u001b[38;5;241m3\u001b[39m):\n",
      "File \u001b[1;32m~\\1\\dezero\\functions.py:23\u001b[0m, in \u001b[0;36msin\u001b[1;34m(x)\u001b[0m\n\u001b[0;32m     22\u001b[0m \u001b[38;5;28;01mdef\u001b[39;00m \u001b[38;5;21msin\u001b[39m(x):\n\u001b[1;32m---> 23\u001b[0m     \u001b[38;5;28;01mreturn\u001b[39;00m Sin()(x)\n",
      "File \u001b[1;32m~\\1\\dezero\\core.py:185\u001b[0m, in \u001b[0;36mFunction.__call__\u001b[1;34m(self, *inputs)\u001b[0m\n\u001b[0;32m    184\u001b[0m \u001b[38;5;28;01mdef\u001b[39;00m \u001b[38;5;21m__call__\u001b[39m(\u001b[38;5;28mself\u001b[39m, \u001b[38;5;241m*\u001b[39minputs):\n\u001b[1;32m--> 185\u001b[0m     inputs \u001b[38;5;241m=\u001b[39m [as_variable(x) \u001b[38;5;28;01mfor\u001b[39;00m x \u001b[38;5;129;01min\u001b[39;00m inputs]\n\u001b[0;32m    187\u001b[0m     xs \u001b[38;5;241m=\u001b[39m [x\u001b[38;5;241m.\u001b[39mdata \u001b[38;5;28;01mfor\u001b[39;00m x \u001b[38;5;129;01min\u001b[39;00m inputs]\n\u001b[0;32m    188\u001b[0m     ys \u001b[38;5;241m=\u001b[39m \u001b[38;5;28mself\u001b[39m\u001b[38;5;241m.\u001b[39mforward(\u001b[38;5;241m*\u001b[39mxs)\n",
      "File \u001b[1;32m~\\1\\dezero\\core.py:185\u001b[0m, in \u001b[0;36m<listcomp>\u001b[1;34m(.0)\u001b[0m\n\u001b[0;32m    184\u001b[0m \u001b[38;5;28;01mdef\u001b[39;00m \u001b[38;5;21m__call__\u001b[39m(\u001b[38;5;28mself\u001b[39m, \u001b[38;5;241m*\u001b[39minputs):\n\u001b[1;32m--> 185\u001b[0m     inputs \u001b[38;5;241m=\u001b[39m [as_variable(x) \u001b[38;5;28;01mfor\u001b[39;00m x \u001b[38;5;129;01min\u001b[39;00m inputs]\n\u001b[0;32m    187\u001b[0m     xs \u001b[38;5;241m=\u001b[39m [x\u001b[38;5;241m.\u001b[39mdata \u001b[38;5;28;01mfor\u001b[39;00m x \u001b[38;5;129;01min\u001b[39;00m inputs]\n\u001b[0;32m    188\u001b[0m     ys \u001b[38;5;241m=\u001b[39m \u001b[38;5;28mself\u001b[39m\u001b[38;5;241m.\u001b[39mforward(\u001b[38;5;241m*\u001b[39mxs)\n",
      "File \u001b[1;32m~\\1\\dezero\\core.py:174\u001b[0m, in \u001b[0;36mas_variable\u001b[1;34m(obj)\u001b[0m\n\u001b[0;32m    172\u001b[0m \u001b[38;5;28;01mif\u001b[39;00m \u001b[38;5;28misinstance\u001b[39m(obj, Variable):\n\u001b[0;32m    173\u001b[0m     \u001b[38;5;28;01mreturn\u001b[39;00m obj\n\u001b[1;32m--> 174\u001b[0m \u001b[38;5;28;01mreturn\u001b[39;00m Variable(obj)\n",
      "File \u001b[1;32m~\\1\\dezero\\core.py:48\u001b[0m, in \u001b[0;36mVariable.__init__\u001b[1;34m(self, data, name)\u001b[0m\n\u001b[0;32m     46\u001b[0m \u001b[38;5;28;01mif\u001b[39;00m data \u001b[38;5;129;01mis\u001b[39;00m \u001b[38;5;129;01mnot\u001b[39;00m \u001b[38;5;28;01mNone\u001b[39;00m:\n\u001b[0;32m     47\u001b[0m     \u001b[38;5;28;01mif\u001b[39;00m \u001b[38;5;129;01mnot\u001b[39;00m \u001b[38;5;28misinstance\u001b[39m(data, array_types):\n\u001b[1;32m---> 48\u001b[0m         \u001b[38;5;28;01mraise\u001b[39;00m \u001b[38;5;167;01mTypeError\u001b[39;00m(\u001b[38;5;124m'\u001b[39m\u001b[38;5;132;01m{}\u001b[39;00m\u001b[38;5;124m is not supported\u001b[39m\u001b[38;5;124m'\u001b[39m\u001b[38;5;241m.\u001b[39mformat(\u001b[38;5;28mtype\u001b[39m(data)))\n\u001b[0;32m     50\u001b[0m \u001b[38;5;28mself\u001b[39m\u001b[38;5;241m.\u001b[39mdata \u001b[38;5;241m=\u001b[39m data\n\u001b[0;32m     51\u001b[0m \u001b[38;5;28mself\u001b[39m\u001b[38;5;241m.\u001b[39mname \u001b[38;5;241m=\u001b[39m name\n",
      "\u001b[1;31mTypeError\u001b[0m: <class 'dezero.core_simple.Variable'> is not supported"
     ]
    }
   ],
   "source": [
    "# sin 함수의 고차 미분\n",
    "import numpy as np\n",
    "from dezero import Function\n",
    "import dezero.functions as F\n",
    "\n",
    "x = Variable(np.array(1.0))\n",
    "y = F.sin(x)\n",
    "y.backward(create_graph=True)\n",
    "\n",
    "for i in range(3):\n",
    "    gx = x.grad\n",
    "    x.cleargrad()\n",
    "    gx.backward(create_graph=True)\n",
    "    print(x.grad)"
   ]
  },
  {
   "cell_type": "code",
   "execution_count": 57,
   "id": "a2ea2f2d-01eb-42bb-a6af-75b23a237509",
   "metadata": {},
   "outputs": [],
   "source": [
    "# tanh 함수의 미분 구현\n",
    "import numpy as np\n",
    "from dezero import Function\n",
    "\n",
    "class Tanh(Function):\n",
    "    def forward(self, x):\n",
    "        xp = cuda.get_array_module(x)\n",
    "        y = xp.tanh(x)\n",
    "        return y\n",
    "\n",
    "    def backward(self, gy):\n",
    "        y = self.outputs[0]()  # weakref\n",
    "        gx = gy * (1 - y * y)\n",
    "        return gx\n",
    "\n",
    "\n",
    "def tanh(x):\n",
    "    return Tanh()(x)"
   ]
  },
  {
   "cell_type": "code",
   "execution_count": 58,
   "id": "e424e7a8-f636-48d2-8406-0d353e330687",
   "metadata": {},
   "outputs": [
    {
     "ename": "TypeError",
     "evalue": "<class 'dezero.core_simple.Variable'> is not supported",
     "output_type": "error",
     "traceback": [
      "\u001b[1;31m---------------------------------------------------------------------------\u001b[0m",
      "\u001b[1;31mTypeError\u001b[0m                                 Traceback (most recent call last)",
      "Cell \u001b[1;32mIn[58], line 9\u001b[0m\n\u001b[0;32m      6\u001b[0m \u001b[38;5;28;01mfrom\u001b[39;00m \u001b[38;5;21;01mdezero\u001b[39;00m\u001b[38;5;21;01m.\u001b[39;00m\u001b[38;5;21;01mcore_simple\u001b[39;00m \u001b[38;5;28;01mimport\u001b[39;00m Variable\n\u001b[0;32m      8\u001b[0m x \u001b[38;5;241m=\u001b[39m Variable(np\u001b[38;5;241m.\u001b[39marray(\u001b[38;5;241m1.0\u001b[39m))\n\u001b[1;32m----> 9\u001b[0m y \u001b[38;5;241m=\u001b[39m F\u001b[38;5;241m.\u001b[39mtanh(x)\n\u001b[0;32m     10\u001b[0m x\u001b[38;5;241m.\u001b[39mname \u001b[38;5;241m=\u001b[39m \u001b[38;5;124m'\u001b[39m\u001b[38;5;124mx\u001b[39m\u001b[38;5;124m'\u001b[39m\n\u001b[0;32m     11\u001b[0m y\u001b[38;5;241m.\u001b[39mname \u001b[38;5;241m=\u001b[39m \u001b[38;5;124m'\u001b[39m\u001b[38;5;124my\u001b[39m\u001b[38;5;124m'\u001b[39m\n",
      "File \u001b[1;32m~\\1\\dezero\\functions.py:55\u001b[0m, in \u001b[0;36mtanh\u001b[1;34m(x)\u001b[0m\n\u001b[0;32m     54\u001b[0m \u001b[38;5;28;01mdef\u001b[39;00m \u001b[38;5;21mtanh\u001b[39m(x):\n\u001b[1;32m---> 55\u001b[0m     \u001b[38;5;28;01mreturn\u001b[39;00m Tanh()(x)\n",
      "File \u001b[1;32m~\\1\\dezero\\core.py:185\u001b[0m, in \u001b[0;36mFunction.__call__\u001b[1;34m(self, *inputs)\u001b[0m\n\u001b[0;32m    184\u001b[0m \u001b[38;5;28;01mdef\u001b[39;00m \u001b[38;5;21m__call__\u001b[39m(\u001b[38;5;28mself\u001b[39m, \u001b[38;5;241m*\u001b[39minputs):\n\u001b[1;32m--> 185\u001b[0m     inputs \u001b[38;5;241m=\u001b[39m [as_variable(x) \u001b[38;5;28;01mfor\u001b[39;00m x \u001b[38;5;129;01min\u001b[39;00m inputs]\n\u001b[0;32m    187\u001b[0m     xs \u001b[38;5;241m=\u001b[39m [x\u001b[38;5;241m.\u001b[39mdata \u001b[38;5;28;01mfor\u001b[39;00m x \u001b[38;5;129;01min\u001b[39;00m inputs]\n\u001b[0;32m    188\u001b[0m     ys \u001b[38;5;241m=\u001b[39m \u001b[38;5;28mself\u001b[39m\u001b[38;5;241m.\u001b[39mforward(\u001b[38;5;241m*\u001b[39mxs)\n",
      "File \u001b[1;32m~\\1\\dezero\\core.py:185\u001b[0m, in \u001b[0;36m<listcomp>\u001b[1;34m(.0)\u001b[0m\n\u001b[0;32m    184\u001b[0m \u001b[38;5;28;01mdef\u001b[39;00m \u001b[38;5;21m__call__\u001b[39m(\u001b[38;5;28mself\u001b[39m, \u001b[38;5;241m*\u001b[39minputs):\n\u001b[1;32m--> 185\u001b[0m     inputs \u001b[38;5;241m=\u001b[39m [as_variable(x) \u001b[38;5;28;01mfor\u001b[39;00m x \u001b[38;5;129;01min\u001b[39;00m inputs]\n\u001b[0;32m    187\u001b[0m     xs \u001b[38;5;241m=\u001b[39m [x\u001b[38;5;241m.\u001b[39mdata \u001b[38;5;28;01mfor\u001b[39;00m x \u001b[38;5;129;01min\u001b[39;00m inputs]\n\u001b[0;32m    188\u001b[0m     ys \u001b[38;5;241m=\u001b[39m \u001b[38;5;28mself\u001b[39m\u001b[38;5;241m.\u001b[39mforward(\u001b[38;5;241m*\u001b[39mxs)\n",
      "File \u001b[1;32m~\\1\\dezero\\core.py:174\u001b[0m, in \u001b[0;36mas_variable\u001b[1;34m(obj)\u001b[0m\n\u001b[0;32m    172\u001b[0m \u001b[38;5;28;01mif\u001b[39;00m \u001b[38;5;28misinstance\u001b[39m(obj, Variable):\n\u001b[0;32m    173\u001b[0m     \u001b[38;5;28;01mreturn\u001b[39;00m obj\n\u001b[1;32m--> 174\u001b[0m \u001b[38;5;28;01mreturn\u001b[39;00m Variable(obj)\n",
      "File \u001b[1;32m~\\1\\dezero\\core.py:48\u001b[0m, in \u001b[0;36mVariable.__init__\u001b[1;34m(self, data, name)\u001b[0m\n\u001b[0;32m     46\u001b[0m \u001b[38;5;28;01mif\u001b[39;00m data \u001b[38;5;129;01mis\u001b[39;00m \u001b[38;5;129;01mnot\u001b[39;00m \u001b[38;5;28;01mNone\u001b[39;00m:\n\u001b[0;32m     47\u001b[0m     \u001b[38;5;28;01mif\u001b[39;00m \u001b[38;5;129;01mnot\u001b[39;00m \u001b[38;5;28misinstance\u001b[39m(data, array_types):\n\u001b[1;32m---> 48\u001b[0m         \u001b[38;5;28;01mraise\u001b[39;00m \u001b[38;5;167;01mTypeError\u001b[39;00m(\u001b[38;5;124m'\u001b[39m\u001b[38;5;132;01m{}\u001b[39;00m\u001b[38;5;124m is not supported\u001b[39m\u001b[38;5;124m'\u001b[39m\u001b[38;5;241m.\u001b[39mformat(\u001b[38;5;28mtype\u001b[39m(data)))\n\u001b[0;32m     50\u001b[0m \u001b[38;5;28mself\u001b[39m\u001b[38;5;241m.\u001b[39mdata \u001b[38;5;241m=\u001b[39m data\n\u001b[0;32m     51\u001b[0m \u001b[38;5;28mself\u001b[39m\u001b[38;5;241m.\u001b[39mname \u001b[38;5;241m=\u001b[39m name\n",
      "\u001b[1;31mTypeError\u001b[0m: <class 'dezero.core_simple.Variable'> is not supported"
     ]
    }
   ],
   "source": [
    "# tanh 함수의 고차 미분 계산 그래프 시각화\n",
    "import numpy as np\n",
    "from dezero import Variable\n",
    "from dezero.utils import plot_dot_graph\n",
    "import dezero.functions as F\n",
    "from dezero.core_simple import Variable\n",
    "\n",
    "x = Variable(np.array(1.0))\n",
    "y = F.tanh(x)\n",
    "x.name = 'x'\n",
    "y.name = 'y'\n",
    "y.backward(create_graph=True)\n",
    "\n",
    "iters = 0\n",
    "\n",
    "for i in range(iters):\n",
    "    gx = x.grad\n",
    "    x.cleargrad()\n",
    "    gx.backward(create_graph=True)\n",
    "\n",
    "gx = x.grad\n",
    "gx.name = 'gx' + atr(iters + 1)\n",
    "plot_dot_graph(x, verbose=False, to_file='tanh.png')"
   ]
  },
  {
   "cell_type": "code",
   "execution_count": 59,
   "id": "4f44dcfb-8e90-4989-970f-50c9128cb88b",
   "metadata": {},
   "outputs": [
    {
     "data": {
      "text/plain": [
       "'\\n\\n<고차미분 이외의 용도>\\n\\n[고차 미분 계산 정리]\\n▪ 고차 미분을 하기 위해 역전파 시 수행되는 계산에 대해서도 연결을 만들도록 함\\n▪ 역전파의 계산 그래프를 만들수 있음\\n▪ 고차 미분 외에 어떻게 활용할 수 있는지를 살펴봄\\n\\n[Double Backpropagation]\\n▪ 역전파로 수행한 계산에 대해 또 다시 역전파를 수행함\\n▪ Double backprop 은 현대적인 딥러닝 프레임워크 대부분이 지원함\\n\\n[double backprop 활용 용도]\\n▪ 미분이 포함된 식에서 다시 한번 미분 수행\\n▪ y’ = 2x, z = (𝑦′)^3 + y = 8 𝒙^3 + 𝒙^2\\n▪ z’ = 24 𝒙^2 + 2𝑥\\n▪ a, b 가 정수일 때 f(𝒙𝟎, 𝒙𝟏) = 𝒃(𝒙𝟏 - 𝒙𝟎^2)^2 + (a − 𝒙𝟎)^2\\n\\n[DeZero를 사용하여 문제 계산]\\n▪ y.backward(create_graph=True) 는 미분을 하기 위한 역전파 코드이며 계산 그래프를 생성함.\\n▪ 역전파가 만들어낸 계산 그래프를 사용하여 새로운 계산을 하고 다시 역전파함\\n• 미분식을 구하고, 그 식을 사용하여 계산 후 또 다시 미분하는 문제를 해결함\\n\\n<딥러닝 연구에서의 사용 예>\\n\\n[WGAN-GP 논문]\\n▪ 수식을 최적화하는 함수가 포함됨.\\n▪ 최적화하는 식에 기울기(텐서의 각 원소에 대한 미분 결과)가 들어 있음\\n▪ 이 기울기는 첫 번째 역전파에서 구할 수 있음\\n▪ 이 기울기를 사용하여 함수 L을 계산하고, 함수 L을 최적화하기 위해 두 번째 역전파 수행\\n\\n->DeZero의 역전파를 수정하여 double backprop를 가능하게 되었으며 \\n다음엔 DeZero를 신경망용으로 변경시킬 것\\n\\n'"
      ]
     },
     "execution_count": 59,
     "metadata": {},
     "output_type": "execute_result"
    }
   ],
   "source": [
    "'''\n",
    "\n",
    "<고차미분 이외의 용도>\n",
    "\n",
    "[고차 미분 계산 정리]\n",
    "▪ 고차 미분을 하기 위해 역전파 시 수행되는 계산에 대해서도 연결을 만들도록 함\n",
    "▪ 역전파의 계산 그래프를 만들수 있음\n",
    "▪ 고차 미분 외에 어떻게 활용할 수 있는지를 살펴봄\n",
    "\n",
    "[Double Backpropagation]\n",
    "▪ 역전파로 수행한 계산에 대해 또 다시 역전파를 수행함\n",
    "▪ Double backprop 은 현대적인 딥러닝 프레임워크 대부분이 지원함\n",
    "\n",
    "[double backprop 활용 용도]\n",
    "▪ 미분이 포함된 식에서 다시 한번 미분 수행\n",
    "▪ y’ = 2x, z = (𝑦′)^3 + y = 8 𝒙^3 + 𝒙^2\n",
    "▪ z’ = 24 𝒙^2 + 2𝑥\n",
    "▪ a, b 가 정수일 때 f(𝒙𝟎, 𝒙𝟏) = 𝒃(𝒙𝟏 - 𝒙𝟎^2)^2 + (a − 𝒙𝟎)^2\n",
    "\n",
    "[DeZero를 사용하여 문제 계산]\n",
    "▪ y.backward(create_graph=True) 는 미분을 하기 위한 역전파 코드이며 계산 그래프를 생성함.\n",
    "▪ 역전파가 만들어낸 계산 그래프를 사용하여 새로운 계산을 하고 다시 역전파함\n",
    "• 미분식을 구하고, 그 식을 사용하여 계산 후 또 다시 미분하는 문제를 해결함\n",
    "\n",
    "<딥러닝 연구에서의 사용 예>\n",
    "\n",
    "[WGAN-GP 논문]\n",
    "▪ 수식을 최적화하는 함수가 포함됨.\n",
    "▪ 최적화하는 식에 기울기(텐서의 각 원소에 대한 미분 결과)가 들어 있음\n",
    "▪ 이 기울기는 첫 번째 역전파에서 구할 수 있음\n",
    "▪ 이 기울기를 사용하여 함수 L을 계산하고, 함수 L을 최적화하기 위해 두 번째 역전파 수행\n",
    "\n",
    "->DeZero의 역전파를 수정하여 double backprop를 가능하게 되었으며 \n",
    "다음엔 DeZero를 신경망용으로 변경시킬 것\n",
    "\n",
    "'''"
   ]
  },
  {
   "cell_type": "code",
   "execution_count": null,
   "id": "0ad62212-5cf4-46dc-858b-57553d483fee",
   "metadata": {},
   "outputs": [],
   "source": []
  },
  {
   "cell_type": "code",
   "execution_count": null,
   "id": "24a5e3cd-a4eb-4fea-8949-831d15255944",
   "metadata": {},
   "outputs": [],
   "source": []
  },
  {
   "cell_type": "code",
   "execution_count": null,
   "id": "d4f3c3db-78eb-4e1f-a4d7-76be034012b6",
   "metadata": {},
   "outputs": [],
   "source": []
  }
 ],
 "metadata": {
  "kernelspec": {
   "display_name": "Python 3 (ipykernel)",
   "language": "python",
   "name": "python3"
  },
  "language_info": {
   "codemirror_mode": {
    "name": "ipython",
    "version": 3
   },
   "file_extension": ".py",
   "mimetype": "text/x-python",
   "name": "python",
   "nbconvert_exporter": "python",
   "pygments_lexer": "ipython3",
   "version": "3.11.7"
  }
 },
 "nbformat": 4,
 "nbformat_minor": 5
}
