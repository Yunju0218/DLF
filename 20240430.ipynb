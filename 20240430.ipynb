{
 "cells": [
  {
   "cell_type": "code",
   "execution_count": 1,
   "id": "f5c5fe96-45c6-45f8-a1cd-67eb9ffd83b9",
   "metadata": {},
   "outputs": [],
   "source": [
    "#20240430"
   ]
  },
  {
   "cell_type": "code",
   "execution_count": null,
   "id": "76f44323-f78d-4114-86fb-e4c689ba05d0",
   "metadata": {},
   "outputs": [],
   "source": [
    "'''\n",
    "지금까지는 변수로 스칼라를 사용하였다.\n",
    "\n",
    "텐서사용하기:\n",
    "-머신러닝 데이터로 벡터나 행렬 등의 텐서가 주로 사용됨\n",
    "-텐서 사용시의 주의점 파악과 DeZero 확장을 준비\n",
    "-지금까지 구현한 DeZero 함수들이 텐서도 다룰 수 있음을 보여줌\n",
    "\n",
    "* 지금까지 구현한 DeZero 함수에 텐서를 건네면 텐서의 원소마다 스칼라로 계산한다.\n",
    "텐서의 원소별 스칼라 계산이 이루어지면 스칼라를 가정해 구현한 역전파는 텐서의 원소별 계산에서도 성립된다.\n",
    "마지막 출력이 스칼라인 계산 그래프에 대한 역전파를 다루기 때문에 상관없는 것이다.\n",
    "\n",
    "'''"
   ]
  },
  {
   "cell_type": "code",
   "execution_count": 10,
   "id": "64e8886e-e51d-4af3-b68e-9c9d436455f0",
   "metadata": {},
   "outputs": [],
   "source": [
    "import os, sys\n",
    "#os.getcwd()\n",
    "sys.path.append(\"C:\\\\Users\\\\user\\\\1\")\n",
    "\n",
    "from dezero import Variable\n",
    "import numpy as n\n",
    "import dezero.functions as F\n"
   ]
  },
  {
   "cell_type": "code",
   "execution_count": 12,
   "id": "8f07e8f3-3dfe-45c0-99fa-b31c1db4609a",
   "metadata": {},
   "outputs": [
    {
     "name": "stdout",
     "output_type": "stream",
     "text": [
      "variable(231)\n"
     ]
    }
   ],
   "source": [
    "x = Variable(np.array([[1,2,3],[4,5,6]]))\n",
    "c = Variable(np.array([[10,20,30],[40,50,60]]))\n",
    "t = x + c\n",
    "y = F.sum(t)\n",
    "print(y)"
   ]
  },
  {
   "cell_type": "code",
   "execution_count": 13,
   "id": "4ae8c55d-24a2-4443-a9c3-077a2a9103da",
   "metadata": {},
   "outputs": [
    {
     "name": "stdout",
     "output_type": "stream",
     "text": [
      "variable(1)\n",
      "variable([[1 1 1]\n",
      "          [1 1 1]])\n",
      "variable([[1 1 1]\n",
      "          [1 1 1]])\n",
      "variable([[1 1 1]\n",
      "          [1 1 1]])\n"
     ]
    }
   ],
   "source": [
    "y.backward(retain_grad=True)\n",
    "print(y.grad)\n",
    "print(t.grad)\n",
    "print(x.grad)\n",
    "print(c.grad)"
   ]
  },
  {
   "cell_type": "code",
   "execution_count": 14,
   "id": "d023d6a5-0196-498f-a28b-b784e8c1eaa5",
   "metadata": {},
   "outputs": [
    {
     "data": {
      "text/plain": [
       "'\\n<원소별로 계산하지 않는 함수>\\n그렇다면 원소별로 계산하지 않는 함수는 어떻게 처리해야할까? -> 텐서의 형상을 변환하는 함수를 구현\\n- 텐서의 형상을 변환하는 reshape 함수\\n- 행렬을 전치하는 transpose 함수\\n- 두 함수 모두 텐서의 형상을 바꾸는 함수\\n\\n'"
      ]
     },
     "execution_count": 14,
     "metadata": {},
     "output_type": "execute_result"
    }
   ],
   "source": [
    "'''\n",
    "<원소별로 계산하지 않는 함수>\n",
    "그렇다면 원소별로 계산하지 않는 함수는 어떻게 처리해야할까? -> 텐서의 형상을 변환하는 함수를 구현\n",
    "- 텐서의 형상을 변환하는 reshape 함수\n",
    "- 행렬을 전치하는 transpose 함수\n",
    "- 두 함수 모두 텐서의 형상을 바꾸는 함수\n",
    "\n",
    "'''"
   ]
  },
  {
   "cell_type": "code",
   "execution_count": 15,
   "id": "65b3f374-d154-48d3-a505-d81bd88c3ad6",
   "metadata": {},
   "outputs": [
    {
     "name": "stdout",
     "output_type": "stream",
     "text": [
      "[1 2 3 4 5 6]\n"
     ]
    }
   ],
   "source": [
    "#reshape 함수 구현\n",
    "import numpy as np\n",
    "\n",
    "x = np.array([[1,2,3],[4,5,6]])\n",
    "y = np.reshape(x, (6,)) #x의 형상을 (2,3)에서 (6,)으로 변환. 원소 수는 같고 형상만 바뀜\n",
    "print(y)"
   ]
  },
  {
   "cell_type": "code",
   "execution_count": 16,
   "id": "11123f76-a3c0-4030-a589-659a9ce3399c",
   "metadata": {},
   "outputs": [
    {
     "data": {
      "text/plain": [
       "'\\nreshape 함수는 단순히 형상만 변환한다. 구체적인 계산은 아무것도 하지 않는다는 것이다.\\n따라서 역전파는 출력 쪽에서 전해지는 기울기에 아무런 손도 대지 않고 입력 쪽으로 흘려보내준다.\\n이것이 reshape 함수의 역전파이다.\\n'"
      ]
     },
     "execution_count": 16,
     "metadata": {},
     "output_type": "execute_result"
    }
   ],
   "source": [
    "'''\n",
    "reshape 함수는 단순히 형상만 변환한다. 구체적인 계산은 아무것도 하지 않는다는 것이다.\n",
    "따라서 역전파는 출력 쪽에서 전해지는 기울기에 아무런 손도 대지 않고 입력 쪽으로 흘려보내준다.\n",
    "이것이 reshape 함수의 역전파이다.\n",
    "'''"
   ]
  },
  {
   "cell_type": "code",
   "execution_count": 22,
   "id": "1dd7c98a-f3c1-4434-a36f-17047c5eef24",
   "metadata": {},
   "outputs": [],
   "source": [
    "'''\n",
    "DeZero용 reshape 함수 구현\n",
    "- Reshape 클래스를 초기화할 때 변형 목표가 되는 형상을 shape 인수로 받음\n",
    "- 순전파시에 넘파이의 reshape 함수를 사용하여 형상을 변환\n",
    "- self.x_shape = x.shape 코드에서 입력 x의 형상을 기억해 둠\n",
    "- 역전파에서 입력 형상 (self.x_shape)로 변환할 수 있음\n",
    "\n",
    "'''\n",
    "from dezero.core import Function\n",
    "class Reshape(Function):\n",
    "    def __init__(self, shape):\n",
    "        self.shape = shape\n",
    "\n",
    "    def forward(self, x):\n",
    "        self.x_shape = x.shape\n",
    "        y = x.reshape(self.shape)\n",
    "        return y\n",
    "\n",
    "    def backward(self, gy):\n",
    "        return reshape(gy, self.x_shape)"
   ]
  },
  {
   "cell_type": "code",
   "execution_count": 23,
   "id": "9b6166fc-632e-4e9b-bd14-08fb2b0a6431",
   "metadata": {},
   "outputs": [],
   "source": [
    "from dezero.core import as_variable\n",
    "\n",
    "def reshape(x, shape):\n",
    "    if x.shape == shape:\n",
    "        return as_variable(x)\n",
    "    return Reshape(shape)(x)"
   ]
  },
  {
   "cell_type": "code",
   "execution_count": 24,
   "id": "b37d6f51-165f-42b6-bc17-dd059f606b5f",
   "metadata": {},
   "outputs": [
    {
     "data": {
      "text/plain": [
       "'\\n구현한 reshape 함수 사용\\n- reshape 함수를 사용하여 형상을 변환시킴\\n- y.backward(retain_grad=True)를 수행하여 x의 기울기를 구함\\n- 이 과정에서 y의 기울기도 자동으로 채워짐\\n- 채워진 기울기의 형상은 y와 같음 (y.grad.shape == y.shape)\\n- 원소는 모두 1로 이루어진 텐서임\\n'"
      ]
     },
     "execution_count": 24,
     "metadata": {},
     "output_type": "execute_result"
    }
   ],
   "source": [
    "'''\n",
    "구현한 reshape 함수 사용\n",
    "- reshape 함수를 사용하여 형상을 변환시킴\n",
    "- y.backward(retain_grad=True)를 수행하여 x의 기울기를 구함\n",
    "- 이 과정에서 y의 기울기도 자동으로 채워짐\n",
    "- 채워진 기울기의 형상은 y와 같음 (y.grad.shape == y.shape)\n",
    "- 원소는 모두 1로 이루어진 텐서임\n",
    "'''"
   ]
  },
  {
   "cell_type": "code",
   "execution_count": 25,
   "id": "731ec921-5b08-4c19-aea5-19de8ac94c61",
   "metadata": {},
   "outputs": [
    {
     "name": "stdout",
     "output_type": "stream",
     "text": [
      "variable([[1 1 1]\n",
      "          [1 1 1]])\n"
     ]
    }
   ],
   "source": [
    "import numpy as np\n",
    "from dezero import Variable\n",
    "import dezero.functions as F\n",
    "\n",
    "x = Variable(np.array([[1,2,3],[4,5,6]]))\n",
    "y = F.reshape(x, (6,))\n",
    "y.backward(retain_grad=True)\n",
    "print(x.grad)"
   ]
  },
  {
   "cell_type": "code",
   "execution_count": 26,
   "id": "06b1e29f-5173-4541-bd5a-c433a2efbff7",
   "metadata": {},
   "outputs": [],
   "source": [
    "#Variable에서 넘파이의 reshape 사용\n",
    "x = np.random.rand(1,2,3)\n",
    "\n",
    "y = x.reshape((2,3)) #튜플로 받기\n",
    "y = x.reshape([2,3]) #리스트로 받기\n",
    "y = x.reshape(2,3) #인수를 그대로 풀어서 받기"
   ]
  },
  {
   "cell_type": "code",
   "execution_count": 27,
   "id": "12b4207c-ad96-4a03-aa30-ebe99e497abd",
   "metadata": {},
   "outputs": [
    {
     "data": {
      "text/plain": [
       "'\\n- Variable 클래스에 가변 인수를 받는 reshape 메서드를 추가\\n- reshape 함수를 Variable 인스턴스의 메서드 형태로 호출할 수 있음\\n'"
      ]
     },
     "execution_count": 27,
     "metadata": {},
     "output_type": "execute_result"
    }
   ],
   "source": [
    "#DeZero의 reshape 함수를 넘파이의 reshape와 비슷하게 만들기\n",
    "'''\n",
    "- Variable 클래스에 가변 인수를 받는 reshape 메서드를 추가\n",
    "- reshape 함수를 Variable 인스턴스의 메서드 형태로 호출할 수 있음\n",
    "'''"
   ]
  },
  {
   "cell_type": "code",
   "execution_count": 31,
   "id": "512cec8d-b5dc-4f77-ba9e-2a2afd6212b3",
   "metadata": {},
   "outputs": [],
   "source": [
    "#CORE파일의 Variable에 가변인수를 받는 reshape 메소드 추가.\n",
    "    # def reshape(self, *shape):\n",
    "    #     if len(shape) == 1 and isinstance(shape[0], (tuple, list)):\n",
    "    #         shape = shape[0]\n",
    "    #     return dezero.functions.reshape(self, shape)"
   ]
  },
  {
   "cell_type": "code",
   "execution_count": 33,
   "id": "670a7db3-c2db-4b89-940c-7a3c39dffde0",
   "metadata": {},
   "outputs": [],
   "source": [
    "x = Variable(np.random.randn(1,2,3))\n",
    "y = x.reshape((2,3))\n",
    "y = x.reshape(2,3)"
   ]
  },
  {
   "cell_type": "code",
   "execution_count": 34,
   "id": "21104940-0103-4162-a796-7260456fe23c",
   "metadata": {},
   "outputs": [],
   "source": [
    "#행렬의 전치\n",
    "'''\n",
    "행렬을 전치하면 행렬의 형상이 바뀜 (ex.가로 ==(2x3)에서 ;;(3x2)로  변경) \n",
    "전치를 transpose라는 이름의 DeZero함수로 구현\n",
    "'''"
   ]
  },
  {
   "cell_type": "code",
   "execution_count": 36,
   "id": "ea7a6e31-02a2-460d-8b2b-36be9d881572",
   "metadata": {},
   "outputs": [
    {
     "name": "stdout",
     "output_type": "stream",
     "text": [
      "[[1 4]\n",
      " [2 5]\n",
      " [3 6]]\n"
     ]
    }
   ],
   "source": [
    "#넘파이에서 transpose 함수를 사용하여 전치\n",
    "x = np.array([[1,2,3],[4,5,6]])\n",
    "y = np.transpose(x)\n",
    "print(y)"
   ]
  },
  {
   "cell_type": "code",
   "execution_count": 38,
   "id": "70aabf78-0d26-4082-8e19-5ceb376ab0bb",
   "metadata": {},
   "outputs": [],
   "source": [
    "#따라서 역전파에서는 출력 쪽에서 전해지는 기울기의 형상만 변경\n",
    "#DeZero의 TRANSPOSE 함수는 다음처럼 구현\n",
    "\n",
    "class Transpose(Function):\n",
    "    def forward(self, x):\n",
    "        y = np.transpose(x)\n",
    "        return y\n",
    "\n",
    "    def backward(self, gy):\n",
    "        gx = transpose(gy)\n",
    "        return gy"
   ]
  },
  {
   "cell_type": "code",
   "execution_count": 40,
   "id": "f9d56c7b-87f7-44a7-8b75-1f5d5e3594c4",
   "metadata": {},
   "outputs": [
    {
     "name": "stdout",
     "output_type": "stream",
     "text": [
      "variable([[1 1 1]\n",
      "          [1 1 1]])\n"
     ]
    }
   ],
   "source": [
    "#transpose 함수 사용\n",
    "x = Variable(np.array([[1,2,3],[4,5,6]]))\n",
    "y = F.transpose(x)\n",
    "y.backward()\n",
    "print(x.grad)"
   ]
  },
  {
   "cell_type": "code",
   "execution_count": 42,
   "id": "d3dfd68e-2ce6-4272-87b4-3f6f857729f7",
   "metadata": {},
   "outputs": [
    {
     "data": {
      "text/plain": [
       "'\\ndef transpose(self):\\n       return dezero.functions.transpose(self)\\n    @property\\n    def T(self):\\n        return dezero.functions.transpose(self)\\n'"
      ]
     },
     "execution_count": 42,
     "metadata": {},
     "output_type": "execute_result"
    }
   ],
   "source": [
    "#Variable 인스턴스에서도 transpose 함수를 사용할 수 있도록 코드 추가\n",
    "'''\n",
    "def transpose(self):\n",
    "       return dezero.functions.transpose(self)  첫 번째인 transpose는 인스턴스 메서드로 이용하기 위한 코드\n",
    "    @property\n",
    "    def T(self):\n",
    "        return dezero.functions.transpose(self) 두 번째 T에는 @property 데코레이터가 붙어 인스턴수 변수로 사용\n",
    "'''"
   ]
  },
  {
   "cell_type": "code",
   "execution_count": 44,
   "id": "4593c1ce-5e43-49ab-bcd6-d96a43fc1c22",
   "metadata": {},
   "outputs": [
    {
     "data": {
      "text/plain": [
       "'\\n축의 순서를 지정하면 그에 맞게 데이터의 축이 달라진다. 인수를 None으로 주면 축이 역순으로 정렬됨. \\nx가 행렬일 때 x.transpose()를 실행하면 0번째와 1번째 축의 데이터가 1번째와 0번째 순서로 바뀐다. 행렬이 전치되는 것이다.\\n'"
      ]
     },
     "execution_count": 44,
     "metadata": {},
     "output_type": "execute_result"
    }
   ],
   "source": [
    "#더 범용적으로 사용할 수 있는 np.transpose 함수\n",
    "A, B, C, D = 1,2,3,4\n",
    "x = np.random.rand(A,B,C,D)\n",
    "y = x.transpose(1,0,3,2)\n",
    "'''\n",
    "축의 순서를 지정하면 그에 맞게 데이터의 축이 달라진다. 인수를 None으로 주면 축이 역순으로 정렬됨. \n",
    "x가 행렬일 때 x.transpose()를 실행하면 0번째와 1번째 축의 데이터가 1번째와 0번째 순서로 바뀐다. 행렬이 전치되는 것이다.\n",
    "'''"
   ]
  },
  {
   "cell_type": "code",
   "execution_count": null,
   "id": "f04e99b7-6545-42ff-ab3f-5ef91793c57a",
   "metadata": {},
   "outputs": [],
   "source": [
    "#합계함수\n",
    "#DeZero에 합계를 구하는 함수 sum 구현\n",
    "'''\n",
    "<sum함수의 역전파>\n",
    "덧셈의 미분: 덧셈을 수행한 후 변수 y로부터 역전파함. 역전파는 출력 쪽에서 전해지는 기울기를 그대로 입력 쪽으로 흘려보냄.\n",
    "        x0와 x1에는 출력 쪽에서 전해준 1이라는 기울기를 두 개로 복사하여 전달\n",
    "* 원소가 2개로 구성된 벡터 합의 역전파\n",
    "벡터에 sum 함수를 적용하면 스칼라를 출력함\n",
    "역전파는 출력 쪽에서 전해준 값인 1을 [1, 1]이라는 벡터로 확장해 전파함\n",
    "\n",
    "* 원소가 2개 이상인 벡터의 합에 대한 역전파 \n",
    "기울기 벡터의 원소 수만큼 복사하면 됨\n",
    "기울기를 입력 변수의 형상과 같아지도록 복사함\n",
    "입력 변수가 2차원 이상의 배열일 때도 동일하게 적용됨\n",
    "\n",
    "\n",
    "<DeZero의 Sum 클래스와 sum 함수 구현>\n",
    "sum 함수 역전파에서는 입력 변수의 형상과 같아지도록 기울기의 원소를 복사함.\n",
    "복사작업은 지정한 형상에 맞게 원소를 복사하기 위해 broadcast_to 함수 사용.\n",
    "(broadcast_to 함수: Variable 인스턴스인 x의 원소를 복사하여 shape 인수로 지정한 형상이 되도록 만들어 주는 함수)\n",
    "broadcast_to 함수를 사용하여 입력 변수와형상이 같아지도록 기울기 gy의 원소를 복사함. 행렬을 입력하여 벡터가 아닌 경우의 동작 확인.\n",
    "\n",
    "'''"
   ]
  },
  {
   "cell_type": "code",
   "execution_count": 47,
   "id": "b7b2e883-17f5-4780-b9a9-758535ca4de5",
   "metadata": {},
   "outputs": [],
   "source": [
    "#sum함수 구현\n",
    "class Sum(Function):\n",
    "    def forward(self, x):\n",
    "        self.x_shape = x.shape\n",
    "        y = x.sum()\n",
    "        return y\n",
    "\n",
    "    def backward(self, gy):\n",
    "        gx = broadcast_to(gy, self.x_shape)\n",
    "        return gx\n",
    "\n",
    "def sum(x):\n",
    "    return Sum()(x)"
   ]
  },
  {
   "cell_type": "code",
   "execution_count": 48,
   "id": "1a5c8199-af26-44eb-a390-a29a4e1760cf",
   "metadata": {},
   "outputs": [
    {
     "name": "stdout",
     "output_type": "stream",
     "text": [
      "variable(21)\n",
      "variable([1 1 1 1 1 1])\n"
     ]
    }
   ],
   "source": [
    "#sum함수 사용해보기\n",
    "import numpy as np\n",
    "from dezero import Variable\n",
    "import dezero.functions as F\n",
    "\n",
    "x = Variable(np.array([1, 2, 3, 4, 5, 6]))\n",
    "y = F.sum(x)\n",
    "y.backward()\n",
    "print(y)\n",
    "print(x.grad)"
   ]
  },
  {
   "cell_type": "code",
   "execution_count": 49,
   "id": "f95fbbfc-03cc-4b79-95d3-4783de88beee",
   "metadata": {},
   "outputs": [
    {
     "name": "stdout",
     "output_type": "stream",
     "text": [
      "variable(21)\n",
      "variable([[1 1 1]\n",
      "          [1 1 1]])\n"
     ]
    }
   ],
   "source": [
    "#sum함수 사용해보기2\n",
    "import numpy as np\n",
    "from dezero import Variable\n",
    "import dezero.functions as F\n",
    "\n",
    "x = Variable(np.array([[1, 2, 3], [4, 5, 6]]))\n",
    "y = F.sum(x)\n",
    "y.backward()\n",
    "print(y)\n",
    "print(x.grad)\n"
   ]
  },
  {
   "cell_type": "code",
   "execution_count": 50,
   "id": "1ae4355d-09ee-4ee6-a3d4-310e4d7adbdb",
   "metadata": {},
   "outputs": [
    {
     "name": "stdout",
     "output_type": "stream",
     "text": [
      "[5 7 9]\n",
      "(2, 3) -> (3,)\n"
     ]
    }
   ],
   "source": [
    "#axis와 keepdims- 합계를 구할 때 축을 지정하기\n",
    "'''\n",
    "axis(축) 지정 인수\n",
    "- 합계를 구할 때 축을 지정할 수 있음\n",
    "- x의 형상은 (2, 3) 이고 출력 y의 형상은 (3, )임\n",
    "- Axis는 축을 뜻하며, 다차원 배열에서 화살표의\n",
    "방향을 의미함\n",
    "\n",
    "keepdims 인수\n",
    "- keepdims 는 입력과 출력의 차원 수(축 수)를 똑같게 유지할지 정하는 플래그\n",
    "- keepdims=True 로 지정하면 축의 수가 유지\n",
    "- keepdims=False로 지정하면 y의 형상은 스칼라\n",
    "\n",
    "'''\n",
    "x = np.array([[1,2,3],[4,5,6]])\n",
    "y = np.sum(x, axis=0)\n",
    "print(y)\n",
    "print(x.shape, '->', y.shape)\n",
    "\n",
    "'''\n",
    "axis는 축이라는 뜻으로 다차원 배열에서 화살표의 방향을 의미한다.\n",
    "axis=1 (가로) axis=0(세로)\n",
    "x.sum(axis=1) 는 세로를 모두 sum, \n",
    "x.sum(axis=0) 는 가로를 모두 sum\n",
    "'''"
   ]
  },
  {
   "cell_type": "code",
   "execution_count": 51,
   "id": "101b0a51-a977-468f-b5c1-1606c7b455d3",
   "metadata": {},
   "outputs": [
    {
     "name": "stdout",
     "output_type": "stream",
     "text": [
      "variable([5 7 9])\n",
      "variable([[1 1 1]\n",
      "          [1 1 1]])\n",
      "(1, 1, 1, 1)\n"
     ]
    }
   ],
   "source": [
    "'''\n",
    "DeZero의 sum함수를 두 인수를 지원하게 만들기\n",
    "Sum 클래스를 초기화할 때 axis와 keepdims를 입력받아 속성으로 설정한다.\n",
    "순전파에서는 이 속성들을 사용해 합계를 구한다. \n",
    "역전파에서는 기존처럼 broadcast_to 함수를 사용하여 입력변수의 형상과 같아지도록 기울기의 원소를 복사한다.\n",
    "'''\n",
    "\n",
    "x = Variable(np.array([[1,2,3],[4,5,6]]))\n",
    "y = F.sum(x,axis=0)\n",
    "y.backward()\n",
    "print(y)\n",
    "print(x.grad)\n",
    "\n",
    "x = Variable(np.random.rand(2,3,4,5))\n",
    "y = x.sum(keepdims=True)\n",
    "print(y.shape)"
   ]
  },
  {
   "cell_type": "code",
   "execution_count": null,
   "id": "834cbf5f-1273-4210-880a-3b3454046224",
   "metadata": {},
   "outputs": [],
   "source": [
    "'''\n",
    "<브로드캐스트 함수>\n",
    "- 서로 다른 형상(shape)을 가진 배열들간에 산술 연산을 수행하기 위해 배열의 형상을 조정\n",
    "- 브로드캐스트를 사용하여 작은 배열을 큰 배열에 맞추어 연산을 수행할 수 있음\n",
    "\n",
    "<넘파이의 브로드케스트 함수>\n",
    "- 넘파이의 np.broadcast_to(x, shape) 함수(ndarray 인스턴스인 x의 원소를 복제하여 shape 인수로 지정한 형상이 되도록 해줌)\n",
    "- 원래는 (3, ) 형상이던 1차원 배열의 원소를 복사하여 (2, 3) 형상으로 바꿈\n",
    "\n",
    "< np.broadcast_to 함수의 역전파>\n",
    "- 입력 x의 형상과 같아지도록 기울기의 합을 구함\n",
    "- sum_to( x, shape) 함수가 있으면 간단하게 해결됨 (x의 원소의 합을 구해 shape 형상으로 만들어주는 함수)\n",
    "\n",
    "\n",
    "'''"
   ]
  },
  {
   "cell_type": "code",
   "execution_count": 52,
   "id": "4c00447c-7f01-4311-a908-90e19a370625",
   "metadata": {},
   "outputs": [
    {
     "name": "stdout",
     "output_type": "stream",
     "text": [
      "[[1 2 3]\n",
      " [1 2 3]]\n"
     ]
    }
   ],
   "source": [
    "x = np.array([1,2,3])\n",
    "y = np.broadcast_to(x,(2,3))\n",
    "print(y)"
   ]
  },
  {
   "cell_type": "code",
   "execution_count": null,
   "id": "cf3ffc81-4b76-469b-ac57-6f3b5856e83e",
   "metadata": {},
   "outputs": [],
   "source": [
    "'''\n",
    "<넘파이 버전 sum_to 함수 준비>\n",
    "- 파일 위치는 dezero/utils.py\n",
    "- sum_to(x, shape) 함수는 shape 형상이 되도록 합을 계산\n",
    "- 기능은 np.sum 함수와 같지만 인수를 주는 방법이 다르다.\n",
    "\n",
    "<sum_to 함수의 역전파>\n",
    "- 역전파는 broadcast_to 함수를 그대로 이용\n",
    "- broadcast_to 함수를 사용하여 입력 x의 형상과 같아지도록 기울기의 원소를 복제함\n",
    "\n",
    "'''"
   ]
  },
  {
   "cell_type": "code",
   "execution_count": 53,
   "id": "3bdbf60e-7cfe-4343-afa3-e54f60ac5073",
   "metadata": {},
   "outputs": [
    {
     "name": "stdout",
     "output_type": "stream",
     "text": [
      "[[5 7 9]]\n",
      "[[ 6]\n",
      " [15]]\n"
     ]
    }
   ],
   "source": [
    "from dezero.utils import sum_to\n",
    "\n",
    "x = np.array([[1,2,3],[4,5,6]])\n",
    "y = sum_to(x, (1,3))\n",
    "print(y)\n",
    "\n",
    "y = sum_to(x, (2,1))\n",
    "print(y)"
   ]
  },
  {
   "cell_type": "code",
   "execution_count": null,
   "id": "2909ae9b-8c5f-42ba-93fb-a70893a95880",
   "metadata": {},
   "outputs": [],
   "source": [
    "'''\n",
    "<BroadcastTo 클래스와 broadcast_to 함수 구현>\n",
    "- 역전파에서는 입력 x와 형상을 일치시키는 데 DeZero의 sum_to 함수를 이용함\n",
    "- SumTo 클래스와 sum_to 함수 구현\n",
    "- 역전파에서는 입력 x와 형상이 같아지도록 기울기의 원소를 복제함 (이를 위해 DeZero 의 broadcast_to 함수를 사용)\n",
    "- broadcast_to 함수와 sum_to 함수는 상호 의존적임\n",
    "(순전파일때는 sum_to, 역전파일때는 broadcast)\n",
    "\n",
    "<브로드캐스트란>\n",
    "- 형상이 다른 다차원 배열끼리의 연산을 가능하게 하는 넘파이 기능\n",
    "- sum_to 함수를 구현한 이유는 넘파이 브로드캐스트에 대응하기 위함\n",
    "'''"
   ]
  },
  {
   "cell_type": "code",
   "execution_count": 55,
   "id": "63df4552-d4b5-43b5-8225-f3bbe3982433",
   "metadata": {},
   "outputs": [
    {
     "name": "stdout",
     "output_type": "stream",
     "text": [
      "[11 12 13]\n"
     ]
    }
   ],
   "source": [
    "x0 = np.array([1,2,3])\n",
    "x1 = np.array([10])\n",
    "y = x0 + x1    #x0와 x1은 형상이 다르지만, 계산 과정에서 x1의 원소가 x0 형상에 맞춰 복제됨\n",
    "print(y)"
   ]
  },
  {
   "cell_type": "code",
   "execution_count": 57,
   "id": "cac42ed1-c912-447d-8b2d-67996e80dd07",
   "metadata": {},
   "outputs": [
    {
     "name": "stdout",
     "output_type": "stream",
     "text": [
      "variable([11 12 13])\n"
     ]
    },
    {
     "data": {
      "text/plain": [
       "'\\n순전파는 ndarray 인스턴스를 사용해 구현했기 때문에 브로드캐스트가 일어남\\n브로드캐스트의 역전파는 일어나지 않음\\n넘파이 브로드캐스트는 broadcast_to 함수에서 이루어지고, \\nbroadcast_to 함수의 역전파는 sum_to 함수에서 일어남\\n'"
      ]
     },
     "execution_count": 57,
     "metadata": {},
     "output_type": "execute_result"
    }
   ],
   "source": [
    "#DeZero에서의 브로드캐스트\n",
    "x0 = Variable(np.array([1,2,3]))\n",
    "x1 = Variable(np.array([10]))\n",
    "y = x0 + x1\n",
    "print(y)\n",
    "\n",
    "'''\n",
    "순전파는 ndarray 인스턴스를 사용해 구현했기 때문에 브로드캐스트가 일어남\n",
    "브로드캐스트의 역전파는 일어나지 않음\n",
    "넘파이 브로드캐스트는 broadcast_to 함수에서 이루어지고, \n",
    "broadcast_to 함수의 역전파는 sum_to 함수에서 일어남\n",
    "'''"
   ]
  },
  {
   "cell_type": "code",
   "execution_count": 59,
   "id": "3428c3a3-1863-4cb7-9777-31864ffe7a9a",
   "metadata": {},
   "outputs": [
    {
     "name": "stdout",
     "output_type": "stream",
     "text": [
      "variable([11 12 13])\n",
      "variable([3])\n"
     ]
    }
   ],
   "source": [
    "#브로드 캐스트 역전파 계산\n",
    "x0 = Variable(np.array([1,2,3]))\n",
    "x1 = Variable(np.array([10]))\n",
    "y = x0 + x1\n",
    "print(y)\n",
    "\n",
    "y.backward()\n",
    "print(x1.grad) #브로드캐스트가 일어나도 DeZero가 올바르게 동작함을 확인"
   ]
  },
  {
   "cell_type": "code",
   "execution_count": 60,
   "id": "7388c821-6b99-4627-8af0-472867253ec9",
   "metadata": {},
   "outputs": [
    {
     "data": {
      "text/plain": [
       "'\\n<행렬의 곱>\\n41단계의 주제는 벡터의 내적과 행렬의 곱\\n\\n1) 벡터의 내적: 두 벡터 사이으이 대응 원소의 곱을 모두 합한 값이 벡터의 내적\\n2) 행렬의 곱: 왼쪽 행렬의 가로방향 벡터와 오른쪽 행렬의 세로방향 벡터 사이의 내적을 계산. 그리고 그 결과가 새로운 행렬의 원소가 됨.\\n\\n'"
      ]
     },
     "execution_count": 60,
     "metadata": {},
     "output_type": "execute_result"
    }
   ],
   "source": [
    "'''\n",
    "<행렬의 곱>\n",
    "41단계의 주제는 벡터의 내적과 행렬의 곱\n",
    "\n",
    "1) 벡터의 내적: 두 벡터 사이으이 대응 원소의 곱을 모두 합한 값이 벡터의 내적\n",
    "2) 행렬의 곱: 왼쪽 행렬의 가로방향 벡터와 오른쪽 행렬의 세로방향 벡터 사이의 내적을 계산. 그리고 그 결과가 새로운 행렬의 원소가 됨.\n",
    "\n",
    "'''"
   ]
  },
  {
   "cell_type": "code",
   "execution_count": 62,
   "id": "bf687495-174d-4f7e-8774-6e0b374058d1",
   "metadata": {},
   "outputs": [
    {
     "name": "stdout",
     "output_type": "stream",
     "text": [
      "32\n",
      "[[19 22]\n",
      " [43 50]]\n"
     ]
    }
   ],
   "source": [
    "#벡터의 내적과 행렬의 곱을 넘파이를 사용하여 구현 (np.dot 함수 사용)\n",
    "import numpy as np\n",
    "\n",
    "#벡터의 내적\n",
    "a = np.array([1,2,3])\n",
    "b = np.array([4,5,6])\n",
    "c = np.dot(a,b)\n",
    "print(c)\n",
    "\n",
    "#행렬의 곱\n",
    "a = np.array([[1,2],[3,4]])\n",
    "b = np.array([[5,6],[7,8]])\n",
    "c = np.dot(a,b) #np.dot(x,y)의 두 인수가 모두 1차원 배열이면 벡터의 내적을 계산하고 인수가 2차우너 배열이면 행렬의 곱을 계산한다.\n",
    "print(c)"
   ]
  },
  {
   "cell_type": "code",
   "execution_count": null,
   "id": "22885e1c-caf1-460c-bb68-58d40413e900",
   "metadata": {},
   "outputs": [],
   "source": [
    "'''\n",
    "행렬과 벡터를 사용할때 주의해야할 점 -> 행렬의 형상 체크\n",
    "- 행렬 a와 b의 대응하는 차원(축)의 원소 수가 일치해야 함\n",
    "- 결과로 만들어진 행렬 c의 형상은 행렬 a와 같은 수의 행을, 행렬 b와 같은 수의 열을 가짐.\n",
    "- 행렬의 곱에서는 대응하는 축의 원소 수를 일치시킨다.\n",
    "\n",
    "<행렬 곱의 역전파>\n",
    "\n",
    "- 최종적으로 스칼라값인 L을 출력하는 계산을 다룬다.\n",
    "- L의 각 변수에 대한 미분을 역전파로 구함\n",
    "\n",
    "예시) y =xW라는 계산을 예로 행렬 곱의 역전파를 설명.\n",
    "x, W, y의 형상은 1xD, DxH, 1xH. \n",
    "\n",
    "x의 i번째 원소에 대한 미분은 𝜕𝐿/𝜕𝑥𝑖 = ∑(J) 𝜕𝐿/𝜕𝑦j X 𝜕𝑦j/𝜕𝑥𝑖\n",
    "\n",
    "- 𝑥𝑖 를 변화시키면 벡터 y의 모든 원소가 변함\n",
    "- y의 각 원소의 변화를 통해 궁극적으로 L이 변화하게 됨\n",
    "- 𝑥𝑖 에서 L에 이르는 연쇄 법칙의 경로는 여러 개 있고, 그 총합이 𝜕𝐿/𝜕𝑥𝑖임\n",
    "\n",
    "\n",
    "'''"
   ]
  }
 ],
 "metadata": {
  "kernelspec": {
   "display_name": "Python 3 (ipykernel)",
   "language": "python",
   "name": "python3"
  },
  "language_info": {
   "codemirror_mode": {
    "name": "ipython",
    "version": 3
   },
   "file_extension": ".py",
   "mimetype": "text/x-python",
   "name": "python",
   "nbconvert_exporter": "python",
   "pygments_lexer": "ipython3",
   "version": "3.11.7"
  }
 },
 "nbformat": 4,
 "nbformat_minor": 5
}
