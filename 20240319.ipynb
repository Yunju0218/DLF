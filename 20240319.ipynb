{
 "cells": [
  {
   "cell_type": "code",
   "execution_count": null,
   "id": "6c9cb5df-7ac8-4d59-8503-31a62fe3a1b8",
   "metadata": {},
   "outputs": [],
   "source": [
    "#역전파알고리즘: 출력층에서 입력층 방향으로 오차를 전파시키며 각 층의 가중치를 업데이트함(w값을 업데이트)\n",
    "하나의 학습 데이터에 대한 비용함수의 그레디언트를 계산하고 미분을 효율적으로 계산할 수 있고 결과값의 오차도 적음\n",
    "변수는 가중치이고 변수를 함수에 넣으면 아웃풋에서 오차가 나오는데 출력층->입력층 방향으로 오차를 전파시킨다\n",
    "수치미분의 계산비용과 정확도를(수치미분은 근삿값으로 하기 때문에 정확도가 미흡.) 개선하였다.\n",
    "\n",
    "#연쇄법칙\n",
    "여러 함수를 사슬처럼 연결하여 사용. 연쇄법칙에 따라서 합성함수의 미분은 구성함수 각각을 미분하 후에 곱한 것과 같다.\n",
    "입력값을 x라 할때 a는 w1, b는 w2라하고 y가 손실함수값이면\n",
    "y는 (dy/dy) x는(dy/dx) a는 w1(dy/da), b는 w2(dy/db). A-> A'(x) B-> B'(a), C-> C'(b) 에 대응한다.\n",
    "\n",
    "#역전파의 원리\n",
    "합성함수의 미분은 구성 함수들의 미분의 곱으로 분해할 수 있다.\n",
    "#손실함수\n",
    "손실함수는 기계 학습 모델의 성능을 측정하기 위해 사용되는 함수이다.\n",
    "모델의 예측값과 실졔 관측된 값 사이의 차이를 나타내며 차이가 작을수록 성능이 좋다(0이 목표)\n",
    "손실함수의 각 매개 변수에 대한 미분계산.\n",
    "\n",
    "#순전파 계산 그래프와 역전파 계산 그래프\n",
    "순전파 계산그래프는 통상적인 계산이고 변수는 통상값이 존재한다\n",
    "역전파 계산그래프는 마분값을 구하기 위한 계산이며 변수는 미분값이 존재한다.\n",
    "역전파를 위해서는 순전파의 데이터가 필요하고 먼저 순전파를 한 뒤 역전파를 진행한다.(이때 각 함수가 입력 변수의 값을 기억해야함)"
   ]
  },
  {
   "cell_type": "code",
   "execution_count": 34,
   "id": "6226d080-f1d6-44ab-b82e-9e81c2883b32",
   "metadata": {},
   "outputs": [],
   "source": [
    "import numpy as np"
   ]
  },
  {
   "cell_type": "code",
   "execution_count": 35,
   "id": "0108a466-959a-4233-9218-6ee02de38372",
   "metadata": {},
   "outputs": [],
   "source": [
    "#수동역전파 코드구현\n",
    "class Variable:\n",
    "    def __init__(self, data):\n",
    "        self.data = data\n",
    "        self.grad = None #인스턴스 변수 추가."
   ]
  },
  {
   "cell_type": "code",
   "execution_count": 36,
   "id": "eb038d2f-c0f1-4299-8db2-fee0e0ed6aba",
   "metadata": {},
   "outputs": [],
   "source": [
    "#미분을 계산하는 역전파와 forward 메서드 호출 시 건네받은 Variable 인스턴스 유지\n",
    "class Function:\n",
    "    def __call__(self, input):\n",
    "        x = input.data\n",
    "        y = self.forward(x)\n",
    "        output = Variable(y)\n",
    "        self.input = input #입력 변수를 기억한다\n",
    "        return output\n",
    "\n",
    "    def forward(self, x):\n",
    "        raise NotImplementedError()\n",
    "\n",
    "    def backward(self, gy): #역전파를 담당하는 백월드 메서드\n",
    "        raise NotImpletedError()"
   ]
  },
  {
   "cell_type": "code",
   "execution_count": 37,
   "id": "22ca2d2f-5e5b-4384-9d70-8d9adfa1ce06",
   "metadata": {},
   "outputs": [],
   "source": [
    "class Square(Function):\n",
    "    def forward(self, x):\n",
    "        y = x ** 2\n",
    "        return y\n",
    "\n",
    "    def backward(self, gy):\n",
    "        x = self.input.data\n",
    "        gx = 2 * x * gy #출력 쪽에서 전해지는 미분 값을 전달\n",
    "        return gx"
   ]
  },
  {
   "cell_type": "code",
   "execution_count": 38,
   "id": "730be99a-504c-4572-b5db-6b2ff57f6236",
   "metadata": {},
   "outputs": [],
   "source": [
    "class Exp(Function):\n",
    "    def forward(self, x):\n",
    "        y = np.exp(x)\n",
    "        return y\n",
    "\n",
    "    def backward(self, gy):\n",
    "        x = self.input.data\n",
    "        gx = np.exp(x) * gy #역전파를 담당하는 메서드\n",
    "        return gx"
   ]
  },
  {
   "cell_type": "code",
   "execution_count": 39,
   "id": "e38722ed-f40c-41d4-896f-6a7ac02d8303",
   "metadata": {},
   "outputs": [],
   "source": [
    "#순전파 계산그래프 (s->e->s)\n",
    "A = Square()\n",
    "B = Exp()\n",
    "C = Square()\n",
    "\n",
    "x = Variable(np.array(0.5))\n",
    "a = A(x)\n",
    "b = B(a)\n",
    "y = C(b)\n"
   ]
  },
  {
   "cell_type": "code",
   "execution_count": 40,
   "id": "3e5ab215-ae08-4cd0-b86f-957fdc854ab9",
   "metadata": {},
   "outputs": [
    {
     "name": "stdout",
     "output_type": "stream",
     "text": [
      "3.297442541400256\n"
     ]
    }
   ],
   "source": [
    "#역전파 계산 그래프\n",
    "y.grad = np.array(1.0)\n",
    "b.grad = C.backward(y.grad) #backward는 미분. a->b->c가 순전파이므로 역전파는 c->b->a로 진행\n",
    "a.grad = B.backward(b.grad)\n",
    "x.grad = A.backward(a.grad)\n",
    "print(x.grad)"
   ]
  },
  {
   "cell_type": "code",
   "execution_count": null,
   "id": "1043c158-8707-4552-9aaf-1fc091911e51",
   "metadata": {},
   "outputs": [],
   "source": [
    "#역전파를 자동화\n",
    "순전파를 한번만 수행하면 역전파가 자동으로 이루어지는 구조.\n",
    "(수동으로 조합하면 새로운 계산을 할 때마다 직접 작성해야하는 어려움이 있음)\n",
    "\n",
    "#define-by-run :동적계산 그래프 \n",
    "딥러닝에서 수행하는 계산들을 계산 시점에 체인처럼 연결하는 방식. 순전파를 한번 실행하면 역전파는 자동으로 수행.\n",
    "분기가 있는 계산 그래프와 변수가 여러번 사용되는 복잡한 계산 그래프라도 역전파를 자동으로 할 수 있는 구조를 만들어야함.\n",
    "#Q: <-> define-and-run(정적그래프)에 대하여 알아보기\n",
    "\n",
    "#역전파 자동화\n",
    "변수와 함수의 관계를 이해하는 데서 출발한다.\n",
    "함수의 입장에서는 변수는 하나는 입력이고 출력이며 변수에게 있어서 함수는 창조자이다.\n",
    "1)Variable 클래스에 creator 인스턴스 변수를 추가하고 set_creator메서드도 추가. \n",
    "output이라는 Variable 인스턴스에 output_creator(self)메서드를 호출하여 동적으로 연결.\n",
    "연결된 Variable과 Function으로 계산 그래프를 거꾸로 거슬러 올라갈 수 있다.\n",
    "    \n",
    "#계산 그래프를 거꾸로 거슬러 올라가는 코드\n",
    "assert문으로 조건을 충족하는지 확인하고 계산은 함수와 변수 사이의 연결로 구성. 실제로 계산을 수행하는 시점에 만들어짐.\n",
    "\n",
    "#링크드 리스트 데이터 구조\n",
    "노드들의 연결로 이루어진 데이터 구조이며 노드는 그래프를 구성하는 요소, 링크는 다른 노드를 가르키는 참조.\n",
    "링크드 리스트 데이터 구조를 이용해 계싼 그래프 표현가능.\n",
    "\n",
    "#역전파 자동화의 시작\n",
    "1.함수를 가져옴 2.함수의 입력을 가져옴 3.함수의 backward 메서드 호출"
   ]
  },
  {
   "cell_type": "code",
   "execution_count": 62,
   "id": "4fdbc7d0-ba41-420d-ac4e-5a42a38d3a67",
   "metadata": {},
   "outputs": [],
   "source": [
    "import numpy as np"
   ]
  },
  {
   "cell_type": "code",
   "execution_count": 63,
   "id": "e7274f08-cd74-4213-9f98-5a597baf981e",
   "metadata": {},
   "outputs": [],
   "source": [
    "#역전파 자동화의 시작\n",
    "class Variable:\n",
    "    def __init__(self, data):\n",
    "        self.data = data\n",
    "        self.grad = None\n",
    "        self.creator = None\n",
    "\n",
    "    def set_creator(self, func):\n",
    "        self.creator = func\n",
    "\n",
    "    def backward(self):\n",
    "        f = self.creator  # 1.함수를 얻어옴\n",
    "        if f is not None:\n",
    "            x = f.input  # 2.입력변수를 가져옴\n",
    "            x.grad = f.backward(self.grad)  # 3.자신보다 하나 앞에 놓인 변수의 backward메서드 호출\n",
    "            x.backward()"
   ]
  },
  {
   "cell_type": "code",
   "execution_count": 64,
   "id": "5c60fe69-492b-408d-be6f-d542d8348442",
   "metadata": {},
   "outputs": [],
   "source": [
    "class Function:\n",
    "    def __call__(self, input):\n",
    "        x = input.data\n",
    "        y = self.forward(x)\n",
    "        output = Variable(y)\n",
    "        output.set_creator(self)  \n",
    "        self.input = input\n",
    "        self.output = output \n",
    "        return output\n",
    "\n",
    "    def forward(self, x):\n",
    "        raise NotImplementedError()\n",
    "\n",
    "    def backward(self, gy):\n",
    "        raise NotImplementedError()"
   ]
  },
  {
   "cell_type": "code",
   "execution_count": 65,
   "id": "2840c9ba-986c-440d-8882-6206c3a0f763",
   "metadata": {},
   "outputs": [],
   "source": [
    "class Square(Function):\n",
    "    def forward(self, x):\n",
    "        y = x ** 2\n",
    "        return y\n",
    "\n",
    "    def backward(self, gy):\n",
    "        x = self.input.data\n",
    "        gx = 2 * x * gy\n",
    "        return gx"
   ]
  },
  {
   "cell_type": "code",
   "execution_count": 66,
   "id": "68a3c4fa-ff9a-4a03-9645-513c74e595da",
   "metadata": {},
   "outputs": [],
   "source": [
    "class Exp(Function):\n",
    "    def forward(self, x):\n",
    "        y = np.exp(x)\n",
    "        return y\n",
    "\n",
    "    def backward(self, gy):\n",
    "        x = self.input.data\n",
    "        gx = np.exp(x) * gy\n",
    "        return gx\n"
   ]
  },
  {
   "cell_type": "code",
   "execution_count": 67,
   "id": "3064e1af-06d3-488c-984e-d2bdf76b2036",
   "metadata": {},
   "outputs": [],
   "source": [
    "#순전파 계산그래프 (s->e->s)\n",
    "A = Square()\n",
    "B = Exp()\n",
    "C = Square()\n",
    "\n",
    "x = Variable(np.array(0.5))\n",
    "a = A(x)\n",
    "b = B(a)\n",
    "y = C(b)\n",
    "\n",
    "assert y.creator == C \n",
    "assert y.creator.input == b\n",
    "assert y.creator.input.creator == B\n",
    "assert y.creator.input.creator.input == a\n",
    "assert y.creator.input.creator.input.creator == A\n",
    "assert y.creator.input.creator.input.creator.input == x"
   ]
  },
  {
   "cell_type": "code",
   "execution_count": 68,
   "id": "8370c175-2913-4ac9-8f61-85d20cbe63c6",
   "metadata": {},
   "outputs": [
    {
     "name": "stdout",
     "output_type": "stream",
     "text": [
      "3.297442541400256\n"
     ]
    }
   ],
   "source": [
    "y.grad = np.array(1.0)\n",
    "\n",
    "C = y.creator\n",
    "b = C.input\n",
    "b.grad = C.backward(y.grad)\n",
    "\n",
    "B = b.creator\n",
    "a = B.input\n",
    "a.grad = B.backward(b.grad)\n",
    "\n",
    "A = a.creator\n",
    "x = A.input\n",
    "x.grad = A.backward(a.grad)\n",
    "\n",
    "print(x.grad)"
   ]
  },
  {
   "cell_type": "code",
   "execution_count": null,
   "id": "a2e12118-4ac9-4b8c-82fd-92b6c4d44947",
   "metadata": {},
   "outputs": [],
   "source": [
    "#반복작업 자동화를 위한 backward 추가\n",
    "Variable 클래스에 backward라는 새로운 메서드를 추가하여 반복작업을 자동화\n",
    "#backward 메서드의 재귀절 호출\n",
    "1)Variable의 creator에서 함수를 얻어옴\n",
    "2)함수의 입력변수를 가져옴\n",
    "3)함수 backward 메서드 호출\n",
    "4)자신보다 하나 앞에 놓인 변수의 backward메서드 호출"
   ]
  },
  {
   "cell_type": "code",
   "execution_count": 69,
   "id": "f3a08755-1881-4e3f-8c25-c822225788e2",
   "metadata": {},
   "outputs": [],
   "source": [
    "import numpy as np"
   ]
  },
  {
   "cell_type": "code",
   "execution_count": 70,
   "id": "3c827cb0-ee7f-4950-bc83-a82d73504ed7",
   "metadata": {},
   "outputs": [],
   "source": [
    "class Variable:\n",
    "    def __init__(self, data):\n",
    "        self.data = data\n",
    "        self.grad = None\n",
    "        self.creator = None\n",
    "\n",
    "    def set_creator(self, func):\n",
    "        self.creator = func\n",
    "\n",
    "    def backward(self):\n",
    "        f = self.creator  # 1.함수를 얻어옴\n",
    "        if f is not None:\n",
    "            x = f.input  # 2.입력변수를 가져옴\n",
    "            x.grad = f.backward(self.grad)  # 3.자신보다 하나 앞에 놓인 변수의 backward메서드 호출\n",
    "            x.backward()"
   ]
  },
  {
   "cell_type": "code",
   "execution_count": 71,
   "id": "f896e85d-a7bd-4fa5-8483-78a4ea8f65e9",
   "metadata": {},
   "outputs": [
    {
     "name": "stdout",
     "output_type": "stream",
     "text": [
      "3.297442541400256\n"
     ]
    }
   ],
   "source": [
    "y.grad = np.array(1.0)\n",
    "y.backward()\n",
    "print(x.grad)"
   ]
  },
  {
   "cell_type": "code",
   "execution_count": null,
   "id": "23e38fc1-7f32-493c-8b12-fd87542060a0",
   "metadata": {},
   "outputs": [],
   "source": [
    "#처리효율과 메서드 확장을 위해 backward 메서드 구현 방식을 재귀문에서 반복문으로 변경\n",
    "재귀는 함수를 재귀적으로 호출할 때마다 중간 결괄ㄹ 메모리에 유지하면서 처리하므로 스택에 쌓여 효율이 좋지 않다.\n",
    "\n",
    "#반복문을 이용한 구현 순서\n",
    "1)함수들을 func 리스트에 차례로 집어넣음\n",
    "2)while문 안에서 funcs.pop()을 호출하여 처리할 함수를 거냄\n",
    "3)함수의 backward 메서드 호출\n",
    "4)함수의 입력과 출력 변수를 얻음\n",
    "5)얻은 입력 변수로 하나 앞의 함수를 리스트에 추가\n",
    "리스트에 func를 집어넣고 pop으로 꺼내고 다시 입력"
   ]
  },
  {
   "cell_type": "code",
   "execution_count": 74,
   "id": "0920b40c-292a-44cc-95a1-1b7deaa3fe30",
   "metadata": {},
   "outputs": [],
   "source": [
    "import numpy as np"
   ]
  },
  {
   "cell_type": "code",
   "execution_count": 85,
   "id": "53809f61-57f6-4cac-ba3d-77bbd089d00e",
   "metadata": {},
   "outputs": [],
   "source": [
    "#리스트를 이용하여 재귀문을 반복문으로 바꾼 코드\n",
    "class Variable:\n",
    "    def __init__(self, data):\n",
    "        self.data = data\n",
    "        self.grad = None\n",
    "        self.creator = None\n",
    "\n",
    "    def set_creator(self, func):\n",
    "        self.creator = func\n",
    "\n",
    "    def backward(self): #이부분이 다른부분.\n",
    "        funcs = [self.creator]\n",
    "        while funcs:\n",
    "            f = funcs.pop()  \n",
    "            x, y = f.input, f.output \n",
    "            x.grad = f.backward(y.grad) \n",
    "\n",
    "            if x.creator is not None:\n",
    "                funcs.append(x.creator)"
   ]
  },
  {
   "cell_type": "code",
   "execution_count": 86,
   "id": "7e48e3c0-9bdd-452b-b2a7-ec615e897a68",
   "metadata": {},
   "outputs": [],
   "source": [
    "#여기서부터는 이하동일 \n",
    "class Function:\n",
    "    def __call__(self, input):\n",
    "        x = input.data\n",
    "        y = self.forward(x)\n",
    "        output = Variable(y)\n",
    "        output.set_creator(self)  \n",
    "        self.input = input\n",
    "        self.output = output \n",
    "        return output\n",
    "\n",
    "    def forward(self, x):\n",
    "        raise NotImplementedError()\n",
    "\n",
    "    def backward(self, gy):\n",
    "        raise NotImplementedError()"
   ]
  },
  {
   "cell_type": "code",
   "execution_count": 87,
   "id": "aa90b795-7446-465d-a7ab-df73a4da6b61",
   "metadata": {},
   "outputs": [],
   "source": [
    "class Square(Function):\n",
    "    def forward(self, x):\n",
    "        y = x ** 2\n",
    "        return y\n",
    "\n",
    "    def backward(self, gy):\n",
    "        x = self.input.data\n",
    "        gx = 2 * x * gy\n",
    "        return gx"
   ]
  },
  {
   "cell_type": "code",
   "execution_count": 88,
   "id": "340c6d6f-4c11-4405-a3de-9fddb767d2df",
   "metadata": {},
   "outputs": [],
   "source": [
    "class Exp(Function):\n",
    "    def forward(self, x):\n",
    "        y = np.exp(x)\n",
    "        return y\n",
    "\n",
    "    def backward(self, gy):\n",
    "        x = self.input.data\n",
    "        gx = np.exp(x) * gy\n",
    "        return gx"
   ]
  },
  {
   "cell_type": "code",
   "execution_count": 89,
   "id": "5c9d5fe1-21fb-4842-a5cf-ef23f07f4d15",
   "metadata": {},
   "outputs": [
    {
     "name": "stdout",
     "output_type": "stream",
     "text": [
      "3.297442541400256\n"
     ]
    }
   ],
   "source": [
    "A = Square()\n",
    "B = Exp()\n",
    "C = Square()\n",
    "\n",
    "x = Variable(np.array(0.5))\n",
    "a = A(x)\n",
    "b = B(a)\n",
    "y = C(b)\n",
    "\n",
    "# backward\n",
    "y.grad = np.array(1.0)\n",
    "y.backward()\n",
    "print(x.grad)"
   ]
  },
  {
   "cell_type": "code",
   "execution_count": null,
   "id": "1e2e2112-2cc5-4b38-be1c-eab4e4ac571a",
   "metadata": {},
   "outputs": [],
   "source": [
    "#세가지 개선사항\n",
    "1)파이썬 함수로 이용하기\n",
    "2)backward 메서드 간소화\n",
    "3)ndarray만 취급하기"
   ]
  },
  {
   "cell_type": "code",
   "execution_count": null,
   "id": "79880503-c7c6-429a-9c61-24b8a9cf166b",
   "metadata": {},
   "outputs": [],
   "source": [
    "# 1)파이썬 함수로 이용하기. 클래스 사용시 클래스의 인스턴스를 생성 후 그 인스턴스를 호출하는 두단계로 진행\n",
    "x = Variable(np.array(0.5))\n",
    "y = Square()(x)"
   ]
  },
  {
   "cell_type": "code",
   "execution_count": null,
   "id": "d982f3e9-548a-4e7e-b966-222972c5e272",
   "metadata": {},
   "outputs": [],
   "source": [
    "#파이썬 함수를 지원하는 방법: square 클리스를 square()함수로 구현, exp 클래스도 exp()함수로 구현\n",
    "def square(x):\n",
    "    return Square()(x)\n",
    "def exp(x):\n",
    "    return Exp()(x)"
   ]
  },
  {
   "cell_type": "code",
   "execution_count": null,
   "id": "fbe67f17-d4db-477a-945c-6612ca707587",
   "metadata": {},
   "outputs": [],
   "source": [
    "#구현한 두 함수 사용시 코드변화\n",
    "x = Variable(np.array(0.5))\n",
    "y = square(exp(square(x)))\n",
    "\n",
    "y.grad = np.array(1.0)\n",
    "y.backward()\n",
    "print(x.grad)"
   ]
  },
  {
   "cell_type": "code",
   "execution_count": null,
   "id": "8281c7b8-e076-4359-bce6-d8416224162c",
   "metadata": {},
   "outputs": [],
   "source": [
    "# 2)backward 메서드 간소화 ++보완 필요.\n",
    "'''\n",
    "y.grad = np.array(1.0) 부분 생략하고 np.ones_like(self.data)코드로 변경\n",
    "    self.data형상과 데이터 타입이 같은 ndarray 인스턴스 생성\n",
    "    self.data가 스칼라라면 self.grad도 스칼라가됨\n",
    "    Variable의 data와 grad의 데이터 타입을 같게 만들기 위함.\n",
    "\n",
    "\n",
    "교수님 이부분 어려운데 너무 빨리설명하셔서 뭐라는지 모르겠어요...ㅠㅠㅠㅠㅠㅠㅠㅠㅠ\n",
    "\n",
    "'''\n",
    "\n"
   ]
  },
  {
   "cell_type": "code",
   "execution_count": null,
   "id": "9d396ff6-e653-4ee5-bdb7-17706ac9e9cd",
   "metadata": {},
   "outputs": [],
   "source": [
    "#테스트 프로그램의 중요성\n",
    "버그를 예방할 수 있고\n",
    "테스트를 자동화 해야 소프트웨어 품질을 유지한다.\n",
    "\n",
    "#단위테스트\n",
    "테스트 가능한 가장 작은 소프트웨어를 실행하여 예상대로 동작하는지 확인하는 테스트\n",
    "테스트 대상 단위의 크기를 작게 설정해서 단위 테스트를 최대한 간단하게 작성\n",
    "화이트박스 테스트\n",
    "단위테스트는 TDD와 함께할 때 더 강력하다.\n",
    "Java의 Junit(제대로 동작하는지 테스트프로그램을 통하여 비교)\n",
    "\n",
    "#통합 테스트\n",
    "여러 모듈을 모아 개발된 의도대로 동작되는지 확인하는 테스트\n",
    "단위 테스트에서 발견하기 어려운 버그를 찾을 수 있는 장점\n",
    "신뢰성이 떨어질 수 있는 점과 어디서 에러가 발생했는지 확인하기 쉽지 않음."
   ]
  }
 ],
 "metadata": {
  "kernelspec": {
   "display_name": "Python 3 (ipykernel)",
   "language": "python",
   "name": "python3"
  },
  "language_info": {
   "codemirror_mode": {
    "name": "ipython",
    "version": 3
   },
   "file_extension": ".py",
   "mimetype": "text/x-python",
   "name": "python",
   "nbconvert_exporter": "python",
   "pygments_lexer": "ipython3",
   "version": "3.11.7"
  }
 },
 "nbformat": 4,
 "nbformat_minor": 5
}
