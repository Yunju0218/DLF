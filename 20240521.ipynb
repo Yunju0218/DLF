{
 "cells": [
  {
   "cell_type": "code",
   "execution_count": null,
   "id": "890a8d8c-5247-447c-ba20-59d2f9943171",
   "metadata": {},
   "outputs": [],
   "source": [
    "어텐션의 코드에 대하여 각 조가 발표함.\n",
    "\n",
    "+++교수님설명\n",
    "\n",
    "어텐션은 문장에서 같은 단어를 찾아 대응시키는데 이를 위해 어떤 계산을 하고 \n",
    "그 계산값들을 모아 h에 모아서 가중치들을 서로 비교한다.\n",
    "\n",
    "나/ 는/ 고양이/ 로소/ 이다./ 에서 가장 비슷한 단어는 나와 고양이인데 이를 알아내는 것이다.\n",
    "벡터와 가중치를 곱하면 맥락벡터라는 가중치가 나온다.\n",
    "(현재로써는 어떤계산이 무엇인지는 모르겠으나 가중치를 구하는 계산임)\n",
    "\n",
    "단어의 중요도를 나타내는 가중치를 별도로 계산. \n",
    "가중치가 가장 높은 애가 그 맥락에서 가장 큰 포지션을 차지하고 있는 것임. \n",
    "\n",
    "그 다음 단계는 임의로 설정한 가중치를 어떻게 알아냈는지 판단하는 과정을 해야 함. \n",
    "가중치와 입력받은 단어들을 모두 곱해서 그 맥락중에서 가장 중요한 부분을 뽑아내야 한다. \n",
    "    ->이것이 가중합 그래프\n",
    "\n",
    "hs는 인코더에서의 단어들을 다 행렬로 벡터한 것임.\n",
    "가중치a는 내가 알고 있다고 가정하는 것.\n",
    "~~인 상태에서 a와 hs를 곱하고 더해\n",
    "브로드캐스트(순전파)하여 형상을 맞추고 썸(역전파)을 진행하는 것이다."
   ]
  }
 ],
 "metadata": {
  "kernelspec": {
   "display_name": "Python 3 (ipykernel)",
   "language": "python",
   "name": "python3"
  },
  "language_info": {
   "codemirror_mode": {
    "name": "ipython",
    "version": 3
   },
   "file_extension": ".py",
   "mimetype": "text/x-python",
   "name": "python",
   "nbconvert_exporter": "python",
   "pygments_lexer": "ipython3",
   "version": "3.11.7"
  }
 },
 "nbformat": 4,
 "nbformat_minor": 5
}
